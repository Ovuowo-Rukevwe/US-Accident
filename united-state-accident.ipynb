{
 "cells": [
  {
   "cell_type": "markdown",
   "metadata": {
    "id": "qqXQOhHa3skg"
   },
   "source": [
    "# US-accident\n",
    "\n",
    "Use the \"Run\" button to execute the code."
   ]
  },
  {
   "cell_type": "code",
   "execution_count": 1,
   "metadata": {
    "executionInfo": {
     "elapsed": 4421,
     "status": "ok",
     "timestamp": 1646903132909,
     "user": {
      "displayName": "Ovuowo Rukevwe",
      "photoUrl": "https://lh3.googleusercontent.com/a/default-user=s64",
      "userId": "05710236961773607660"
     },
     "user_tz": -60
    },
    "id": "SbNgod6E3skr"
   },
   "outputs": [],
   "source": [
    "!pip install opendatasets --upgrade --quiet"
   ]
  },
  {
   "cell_type": "code",
   "execution_count": 2,
   "metadata": {
    "colab": {
     "base_uri": "https://localhost:8080/"
    },
    "executionInfo": {
     "elapsed": 49213,
     "status": "ok",
     "timestamp": 1646903186961,
     "user": {
      "displayName": "Ovuowo Rukevwe",
      "photoUrl": "https://lh3.googleusercontent.com/a/default-user=s64",
      "userId": "05710236961773607660"
     },
     "user_tz": -60
    },
    "id": "VeEg1NMc3sk2",
    "outputId": "3f07704b-b384-4120-e8a3-04ab5e0b9957"
   },
   "outputs": [
    {
     "name": "stdout",
     "output_type": "stream",
     "text": [
      "Please provide your Kaggle credentials to download this dataset. Learn more: http://bit.ly/kaggle-creds\n",
      "Your Kaggle username: ovuoworukevwe\n",
      "Your Kaggle Key: ··········\n",
      "Downloading us-accidents.zip to ./us-accidents\n"
     ]
    },
    {
     "name": "stderr",
     "output_type": "stream",
     "text": [
      "100%|██████████| 285M/285M [00:05<00:00, 55.5MB/s]\n"
     ]
    },
    {
     "name": "stdout",
     "output_type": "stream",
     "text": [
      "\n"
     ]
    }
   ],
   "source": [
    "import opendatasets as od\n",
    "\n",
    "download_url = 'https://www.kaggle.com/sobhanmoosavi/us-accidents'\n",
    "\n",
    "od.download(download_url)"
   ]
  },
  {
   "cell_type": "code",
   "execution_count": 15,
   "metadata": {
    "executionInfo": {
     "elapsed": 673,
     "status": "ok",
     "timestamp": 1646903476940,
     "user": {
      "displayName": "Ovuowo Rukevwe",
      "photoUrl": "https://lh3.googleusercontent.com/a/default-user=s64",
      "userId": "05710236961773607660"
     },
     "user_tz": -60
    },
    "id": "a3W0wFHh8U9p"
   },
   "outputs": [],
   "source": [
    "data_filename = '/content/us-accidents/US_Accidents_Dec21_updated.csv'"
   ]
  },
  {
   "cell_type": "markdown",
   "metadata": {
    "id": "P41HxG9M8_8b"
   },
   "source": [
    "## Data preparation and cleaning\n",
    "1. Load the file using pandas\n",
    "2. look at some information about the data and columns\n",
    "3. fix any missing or incorrect values"
   ]
  },
  {
   "cell_type": "code",
   "execution_count": 16,
   "metadata": {
    "executionInfo": {
     "elapsed": 453,
     "status": "ok",
     "timestamp": 1646903483399,
     "user": {
      "displayName": "Ovuowo Rukevwe",
      "photoUrl": "https://lh3.googleusercontent.com/a/default-user=s64",
      "userId": "05710236961773607660"
     },
     "user_tz": -60
    },
    "id": "BGEVPcKx8UlJ"
   },
   "outputs": [],
   "source": [
    "import pandas as pd"
   ]
  },
  {
   "cell_type": "code",
   "execution_count": 18,
   "metadata": {
    "colab": {
     "base_uri": "https://localhost:8080/",
     "height": 939
    },
    "executionInfo": {
     "elapsed": 27211,
     "status": "ok",
     "timestamp": 1646903652089,
     "user": {
      "displayName": "Ovuowo Rukevwe",
      "photoUrl": "https://lh3.googleusercontent.com/a/default-user=s64",
      "userId": "05710236961773607660"
     },
     "user_tz": -60
    },
    "id": "siPCNNui8UPl",
    "outputId": "a0199c4a-4ea7-424f-9c3b-303e08b83f36"
   },
   "outputs": [
    {
     "data": {
      "text/html": [
       "\n",
       "  <div id=\"df-fd6917f9-4869-4ca4-88e1-2f9c912540de\">\n",
       "    <div class=\"colab-df-container\">\n",
       "      <div>\n",
       "<style scoped>\n",
       "    .dataframe tbody tr th:only-of-type {\n",
       "        vertical-align: middle;\n",
       "    }\n",
       "\n",
       "    .dataframe tbody tr th {\n",
       "        vertical-align: top;\n",
       "    }\n",
       "\n",
       "    .dataframe thead th {\n",
       "        text-align: right;\n",
       "    }\n",
       "</style>\n",
       "<table border=\"1\" class=\"dataframe\">\n",
       "  <thead>\n",
       "    <tr style=\"text-align: right;\">\n",
       "      <th></th>\n",
       "      <th>ID</th>\n",
       "      <th>Severity</th>\n",
       "      <th>Start_Time</th>\n",
       "      <th>End_Time</th>\n",
       "      <th>Start_Lat</th>\n",
       "      <th>Start_Lng</th>\n",
       "      <th>End_Lat</th>\n",
       "      <th>End_Lng</th>\n",
       "      <th>Distance(mi)</th>\n",
       "      <th>Description</th>\n",
       "      <th>...</th>\n",
       "      <th>Roundabout</th>\n",
       "      <th>Station</th>\n",
       "      <th>Stop</th>\n",
       "      <th>Traffic_Calming</th>\n",
       "      <th>Traffic_Signal</th>\n",
       "      <th>Turning_Loop</th>\n",
       "      <th>Sunrise_Sunset</th>\n",
       "      <th>Civil_Twilight</th>\n",
       "      <th>Nautical_Twilight</th>\n",
       "      <th>Astronomical_Twilight</th>\n",
       "    </tr>\n",
       "  </thead>\n",
       "  <tbody>\n",
       "    <tr>\n",
       "      <th>0</th>\n",
       "      <td>A-3166784</td>\n",
       "      <td>3</td>\n",
       "      <td>2016-02-08 00:37:08</td>\n",
       "      <td>2016-02-08 06:37:08</td>\n",
       "      <td>40.10891</td>\n",
       "      <td>-83.09286</td>\n",
       "      <td>40.11206</td>\n",
       "      <td>-83.03187</td>\n",
       "      <td>3.230</td>\n",
       "      <td>Between Sawmill Rd/Exit 20 and OH-315/Olentang...</td>\n",
       "      <td>...</td>\n",
       "      <td>False</td>\n",
       "      <td>False</td>\n",
       "      <td>False</td>\n",
       "      <td>False</td>\n",
       "      <td>False</td>\n",
       "      <td>False</td>\n",
       "      <td>Night</td>\n",
       "      <td>Night</td>\n",
       "      <td>Night</td>\n",
       "      <td>Night</td>\n",
       "    </tr>\n",
       "    <tr>\n",
       "      <th>1</th>\n",
       "      <td>A-3166785</td>\n",
       "      <td>2</td>\n",
       "      <td>2016-02-08 05:56:20</td>\n",
       "      <td>2016-02-08 11:56:20</td>\n",
       "      <td>39.86542</td>\n",
       "      <td>-84.06280</td>\n",
       "      <td>39.86501</td>\n",
       "      <td>-84.04873</td>\n",
       "      <td>0.747</td>\n",
       "      <td>At OH-4/OH-235/Exit 41 - Accident.</td>\n",
       "      <td>...</td>\n",
       "      <td>False</td>\n",
       "      <td>False</td>\n",
       "      <td>False</td>\n",
       "      <td>False</td>\n",
       "      <td>False</td>\n",
       "      <td>False</td>\n",
       "      <td>Night</td>\n",
       "      <td>Night</td>\n",
       "      <td>Night</td>\n",
       "      <td>Night</td>\n",
       "    </tr>\n",
       "    <tr>\n",
       "      <th>2</th>\n",
       "      <td>A-3166786</td>\n",
       "      <td>2</td>\n",
       "      <td>2016-02-08 06:15:39</td>\n",
       "      <td>2016-02-08 12:15:39</td>\n",
       "      <td>39.10266</td>\n",
       "      <td>-84.52468</td>\n",
       "      <td>39.10209</td>\n",
       "      <td>-84.52396</td>\n",
       "      <td>0.055</td>\n",
       "      <td>At I-71/US-50/Exit 1 - Accident.</td>\n",
       "      <td>...</td>\n",
       "      <td>False</td>\n",
       "      <td>False</td>\n",
       "      <td>False</td>\n",
       "      <td>False</td>\n",
       "      <td>False</td>\n",
       "      <td>False</td>\n",
       "      <td>Night</td>\n",
       "      <td>Night</td>\n",
       "      <td>Night</td>\n",
       "      <td>Day</td>\n",
       "    </tr>\n",
       "    <tr>\n",
       "      <th>3</th>\n",
       "      <td>A-3166787</td>\n",
       "      <td>2</td>\n",
       "      <td>2016-02-08 06:15:39</td>\n",
       "      <td>2016-02-08 12:15:39</td>\n",
       "      <td>39.10148</td>\n",
       "      <td>-84.52341</td>\n",
       "      <td>39.09841</td>\n",
       "      <td>-84.52241</td>\n",
       "      <td>0.219</td>\n",
       "      <td>At I-71/US-50/Exit 1 - Accident.</td>\n",
       "      <td>...</td>\n",
       "      <td>False</td>\n",
       "      <td>False</td>\n",
       "      <td>False</td>\n",
       "      <td>False</td>\n",
       "      <td>False</td>\n",
       "      <td>False</td>\n",
       "      <td>Night</td>\n",
       "      <td>Night</td>\n",
       "      <td>Night</td>\n",
       "      <td>Day</td>\n",
       "    </tr>\n",
       "    <tr>\n",
       "      <th>4</th>\n",
       "      <td>A-3166788</td>\n",
       "      <td>2</td>\n",
       "      <td>2016-02-08 06:51:45</td>\n",
       "      <td>2016-02-08 12:51:45</td>\n",
       "      <td>41.06213</td>\n",
       "      <td>-81.53784</td>\n",
       "      <td>41.06217</td>\n",
       "      <td>-81.53547</td>\n",
       "      <td>0.123</td>\n",
       "      <td>At Dart Ave/Exit 21 - Accident.</td>\n",
       "      <td>...</td>\n",
       "      <td>False</td>\n",
       "      <td>False</td>\n",
       "      <td>False</td>\n",
       "      <td>False</td>\n",
       "      <td>False</td>\n",
       "      <td>False</td>\n",
       "      <td>Night</td>\n",
       "      <td>Night</td>\n",
       "      <td>Day</td>\n",
       "      <td>Day</td>\n",
       "    </tr>\n",
       "    <tr>\n",
       "      <th>...</th>\n",
       "      <td>...</td>\n",
       "      <td>...</td>\n",
       "      <td>...</td>\n",
       "      <td>...</td>\n",
       "      <td>...</td>\n",
       "      <td>...</td>\n",
       "      <td>...</td>\n",
       "      <td>...</td>\n",
       "      <td>...</td>\n",
       "      <td>...</td>\n",
       "      <td>...</td>\n",
       "      <td>...</td>\n",
       "      <td>...</td>\n",
       "      <td>...</td>\n",
       "      <td>...</td>\n",
       "      <td>...</td>\n",
       "      <td>...</td>\n",
       "      <td>...</td>\n",
       "      <td>...</td>\n",
       "      <td>...</td>\n",
       "      <td>...</td>\n",
       "    </tr>\n",
       "    <tr>\n",
       "      <th>3015848</th>\n",
       "      <td>A-6196996</td>\n",
       "      <td>2</td>\n",
       "      <td>2019-08-23 18:03:25</td>\n",
       "      <td>2019-08-23 18:32:01</td>\n",
       "      <td>34.00248</td>\n",
       "      <td>-117.37936</td>\n",
       "      <td>33.99888</td>\n",
       "      <td>-117.37094</td>\n",
       "      <td>0.543</td>\n",
       "      <td>At Market St - Accident.</td>\n",
       "      <td>...</td>\n",
       "      <td>False</td>\n",
       "      <td>False</td>\n",
       "      <td>False</td>\n",
       "      <td>False</td>\n",
       "      <td>False</td>\n",
       "      <td>False</td>\n",
       "      <td>Day</td>\n",
       "      <td>Day</td>\n",
       "      <td>Day</td>\n",
       "      <td>Day</td>\n",
       "    </tr>\n",
       "    <tr>\n",
       "      <th>3015849</th>\n",
       "      <td>A-6196997</td>\n",
       "      <td>2</td>\n",
       "      <td>2019-08-23 19:11:30</td>\n",
       "      <td>2019-08-23 19:38:23</td>\n",
       "      <td>32.76696</td>\n",
       "      <td>-117.14806</td>\n",
       "      <td>32.76555</td>\n",
       "      <td>-117.15363</td>\n",
       "      <td>0.338</td>\n",
       "      <td>At Camino Del Rio/Mission Center Rd - Accident.</td>\n",
       "      <td>...</td>\n",
       "      <td>False</td>\n",
       "      <td>False</td>\n",
       "      <td>False</td>\n",
       "      <td>False</td>\n",
       "      <td>False</td>\n",
       "      <td>False</td>\n",
       "      <td>Day</td>\n",
       "      <td>Day</td>\n",
       "      <td>Day</td>\n",
       "      <td>Day</td>\n",
       "    </tr>\n",
       "    <tr>\n",
       "      <th>3015850</th>\n",
       "      <td>A-6196998</td>\n",
       "      <td>2</td>\n",
       "      <td>2019-08-23 19:00:21</td>\n",
       "      <td>2019-08-23 19:28:49</td>\n",
       "      <td>33.77545</td>\n",
       "      <td>-117.84779</td>\n",
       "      <td>33.77740</td>\n",
       "      <td>-117.85727</td>\n",
       "      <td>0.561</td>\n",
       "      <td>At Glassell St/Grand Ave - Accident. in the ri...</td>\n",
       "      <td>...</td>\n",
       "      <td>False</td>\n",
       "      <td>False</td>\n",
       "      <td>False</td>\n",
       "      <td>False</td>\n",
       "      <td>False</td>\n",
       "      <td>False</td>\n",
       "      <td>Day</td>\n",
       "      <td>Day</td>\n",
       "      <td>Day</td>\n",
       "      <td>Day</td>\n",
       "    </tr>\n",
       "    <tr>\n",
       "      <th>3015851</th>\n",
       "      <td>A-6196999</td>\n",
       "      <td>2</td>\n",
       "      <td>2019-08-23 19:00:21</td>\n",
       "      <td>2019-08-23 19:29:42</td>\n",
       "      <td>33.99246</td>\n",
       "      <td>-118.40302</td>\n",
       "      <td>33.98311</td>\n",
       "      <td>-118.39565</td>\n",
       "      <td>0.772</td>\n",
       "      <td>At CA-90/Marina Fwy/Jefferson Blvd - Accident.</td>\n",
       "      <td>...</td>\n",
       "      <td>False</td>\n",
       "      <td>False</td>\n",
       "      <td>False</td>\n",
       "      <td>False</td>\n",
       "      <td>False</td>\n",
       "      <td>False</td>\n",
       "      <td>Day</td>\n",
       "      <td>Day</td>\n",
       "      <td>Day</td>\n",
       "      <td>Day</td>\n",
       "    </tr>\n",
       "    <tr>\n",
       "      <th>3015852</th>\n",
       "      <td>A-6197000</td>\n",
       "      <td>2</td>\n",
       "      <td>2019-08-23 18:52:06</td>\n",
       "      <td>2019-08-23 19:21:31</td>\n",
       "      <td>34.13393</td>\n",
       "      <td>-117.23092</td>\n",
       "      <td>34.13736</td>\n",
       "      <td>-117.23934</td>\n",
       "      <td>0.537</td>\n",
       "      <td>At Highland Ave/Arden Ave - Accident.</td>\n",
       "      <td>...</td>\n",
       "      <td>False</td>\n",
       "      <td>False</td>\n",
       "      <td>False</td>\n",
       "      <td>False</td>\n",
       "      <td>False</td>\n",
       "      <td>False</td>\n",
       "      <td>Day</td>\n",
       "      <td>Day</td>\n",
       "      <td>Day</td>\n",
       "      <td>Day</td>\n",
       "    </tr>\n",
       "  </tbody>\n",
       "</table>\n",
       "<p>3015853 rows × 47 columns</p>\n",
       "</div>\n",
       "      <button class=\"colab-df-convert\" onclick=\"convertToInteractive('df-fd6917f9-4869-4ca4-88e1-2f9c912540de')\"\n",
       "              title=\"Convert this dataframe to an interactive table.\"\n",
       "              style=\"display:none;\">\n",
       "        \n",
       "  <svg xmlns=\"http://www.w3.org/2000/svg\" height=\"24px\"viewBox=\"0 0 24 24\"\n",
       "       width=\"24px\">\n",
       "    <path d=\"M0 0h24v24H0V0z\" fill=\"none\"/>\n",
       "    <path d=\"M18.56 5.44l.94 2.06.94-2.06 2.06-.94-2.06-.94-.94-2.06-.94 2.06-2.06.94zm-11 1L8.5 8.5l.94-2.06 2.06-.94-2.06-.94L8.5 2.5l-.94 2.06-2.06.94zm10 10l.94 2.06.94-2.06 2.06-.94-2.06-.94-.94-2.06-.94 2.06-2.06.94z\"/><path d=\"M17.41 7.96l-1.37-1.37c-.4-.4-.92-.59-1.43-.59-.52 0-1.04.2-1.43.59L10.3 9.45l-7.72 7.72c-.78.78-.78 2.05 0 2.83L4 21.41c.39.39.9.59 1.41.59.51 0 1.02-.2 1.41-.59l7.78-7.78 2.81-2.81c.8-.78.8-2.07 0-2.86zM5.41 20L4 18.59l7.72-7.72 1.47 1.35L5.41 20z\"/>\n",
       "  </svg>\n",
       "      </button>\n",
       "      \n",
       "  <style>\n",
       "    .colab-df-container {\n",
       "      display:flex;\n",
       "      flex-wrap:wrap;\n",
       "      gap: 12px;\n",
       "    }\n",
       "\n",
       "    .colab-df-convert {\n",
       "      background-color: #E8F0FE;\n",
       "      border: none;\n",
       "      border-radius: 50%;\n",
       "      cursor: pointer;\n",
       "      display: none;\n",
       "      fill: #1967D2;\n",
       "      height: 32px;\n",
       "      padding: 0 0 0 0;\n",
       "      width: 32px;\n",
       "    }\n",
       "\n",
       "    .colab-df-convert:hover {\n",
       "      background-color: #E2EBFA;\n",
       "      box-shadow: 0px 1px 2px rgba(60, 64, 67, 0.3), 0px 1px 3px 1px rgba(60, 64, 67, 0.15);\n",
       "      fill: #174EA6;\n",
       "    }\n",
       "\n",
       "    [theme=dark] .colab-df-convert {\n",
       "      background-color: #3B4455;\n",
       "      fill: #D2E3FC;\n",
       "    }\n",
       "\n",
       "    [theme=dark] .colab-df-convert:hover {\n",
       "      background-color: #434B5C;\n",
       "      box-shadow: 0px 1px 3px 1px rgba(0, 0, 0, 0.15);\n",
       "      filter: drop-shadow(0px 1px 2px rgba(0, 0, 0, 0.3));\n",
       "      fill: #FFFFFF;\n",
       "    }\n",
       "  </style>\n",
       "\n",
       "      <script>\n",
       "        const buttonEl =\n",
       "          document.querySelector('#df-fd6917f9-4869-4ca4-88e1-2f9c912540de button.colab-df-convert');\n",
       "        buttonEl.style.display =\n",
       "          google.colab.kernel.accessAllowed ? 'block' : 'none';\n",
       "\n",
       "        async function convertToInteractive(key) {\n",
       "          const element = document.querySelector('#df-fd6917f9-4869-4ca4-88e1-2f9c912540de');\n",
       "          const dataTable =\n",
       "            await google.colab.kernel.invokeFunction('convertToInteractive',\n",
       "                                                     [key], {});\n",
       "          if (!dataTable) return;\n",
       "\n",
       "          const docLinkHtml = 'Like what you see? Visit the ' +\n",
       "            '<a target=\"_blank\" href=https://colab.research.google.com/notebooks/data_table.ipynb>data table notebook</a>'\n",
       "            + ' to learn more about interactive tables.';\n",
       "          element.innerHTML = '';\n",
       "          dataTable['output_type'] = 'display_data';\n",
       "          await google.colab.output.renderOutput(dataTable, element);\n",
       "          const docLink = document.createElement('div');\n",
       "          docLink.innerHTML = docLinkHtml;\n",
       "          element.appendChild(docLink);\n",
       "        }\n",
       "      </script>\n",
       "    </div>\n",
       "  </div>\n",
       "  "
      ],
      "text/plain": [
       "                ID  Severity           Start_Time             End_Time  \\\n",
       "0        A-3166784         3  2016-02-08 00:37:08  2016-02-08 06:37:08   \n",
       "1        A-3166785         2  2016-02-08 05:56:20  2016-02-08 11:56:20   \n",
       "2        A-3166786         2  2016-02-08 06:15:39  2016-02-08 12:15:39   \n",
       "3        A-3166787         2  2016-02-08 06:15:39  2016-02-08 12:15:39   \n",
       "4        A-3166788         2  2016-02-08 06:51:45  2016-02-08 12:51:45   \n",
       "...            ...       ...                  ...                  ...   \n",
       "3015848  A-6196996         2  2019-08-23 18:03:25  2019-08-23 18:32:01   \n",
       "3015849  A-6196997         2  2019-08-23 19:11:30  2019-08-23 19:38:23   \n",
       "3015850  A-6196998         2  2019-08-23 19:00:21  2019-08-23 19:28:49   \n",
       "3015851  A-6196999         2  2019-08-23 19:00:21  2019-08-23 19:29:42   \n",
       "3015852  A-6197000         2  2019-08-23 18:52:06  2019-08-23 19:21:31   \n",
       "\n",
       "         Start_Lat  Start_Lng   End_Lat    End_Lng  Distance(mi)  \\\n",
       "0         40.10891  -83.09286  40.11206  -83.03187         3.230   \n",
       "1         39.86542  -84.06280  39.86501  -84.04873         0.747   \n",
       "2         39.10266  -84.52468  39.10209  -84.52396         0.055   \n",
       "3         39.10148  -84.52341  39.09841  -84.52241         0.219   \n",
       "4         41.06213  -81.53784  41.06217  -81.53547         0.123   \n",
       "...            ...        ...       ...        ...           ...   \n",
       "3015848   34.00248 -117.37936  33.99888 -117.37094         0.543   \n",
       "3015849   32.76696 -117.14806  32.76555 -117.15363         0.338   \n",
       "3015850   33.77545 -117.84779  33.77740 -117.85727         0.561   \n",
       "3015851   33.99246 -118.40302  33.98311 -118.39565         0.772   \n",
       "3015852   34.13393 -117.23092  34.13736 -117.23934         0.537   \n",
       "\n",
       "                                               Description  ...  Roundabout  \\\n",
       "0        Between Sawmill Rd/Exit 20 and OH-315/Olentang...  ...       False   \n",
       "1                       At OH-4/OH-235/Exit 41 - Accident.  ...       False   \n",
       "2                         At I-71/US-50/Exit 1 - Accident.  ...       False   \n",
       "3                         At I-71/US-50/Exit 1 - Accident.  ...       False   \n",
       "4                          At Dart Ave/Exit 21 - Accident.  ...       False   \n",
       "...                                                    ...  ...         ...   \n",
       "3015848                           At Market St - Accident.  ...       False   \n",
       "3015849    At Camino Del Rio/Mission Center Rd - Accident.  ...       False   \n",
       "3015850  At Glassell St/Grand Ave - Accident. in the ri...  ...       False   \n",
       "3015851     At CA-90/Marina Fwy/Jefferson Blvd - Accident.  ...       False   \n",
       "3015852              At Highland Ave/Arden Ave - Accident.  ...       False   \n",
       "\n",
       "        Station   Stop Traffic_Calming Traffic_Signal Turning_Loop  \\\n",
       "0         False  False           False          False        False   \n",
       "1         False  False           False          False        False   \n",
       "2         False  False           False          False        False   \n",
       "3         False  False           False          False        False   \n",
       "4         False  False           False          False        False   \n",
       "...         ...    ...             ...            ...          ...   \n",
       "3015848   False  False           False          False        False   \n",
       "3015849   False  False           False          False        False   \n",
       "3015850   False  False           False          False        False   \n",
       "3015851   False  False           False          False        False   \n",
       "3015852   False  False           False          False        False   \n",
       "\n",
       "        Sunrise_Sunset Civil_Twilight Nautical_Twilight Astronomical_Twilight  \n",
       "0                Night          Night             Night                 Night  \n",
       "1                Night          Night             Night                 Night  \n",
       "2                Night          Night             Night                   Day  \n",
       "3                Night          Night             Night                   Day  \n",
       "4                Night          Night               Day                   Day  \n",
       "...                ...            ...               ...                   ...  \n",
       "3015848            Day            Day               Day                   Day  \n",
       "3015849            Day            Day               Day                   Day  \n",
       "3015850            Day            Day               Day                   Day  \n",
       "3015851            Day            Day               Day                   Day  \n",
       "3015852            Day            Day               Day                   Day  \n",
       "\n",
       "[3015853 rows x 47 columns]"
      ]
     },
     "execution_count": 18,
     "metadata": {},
     "output_type": "execute_result"
    }
   ],
   "source": [
    "df = pd.read_csv(data_filename)\n",
    "df"
   ]
  },
  {
   "cell_type": "code",
   "execution_count": 19,
   "metadata": {
    "colab": {
     "base_uri": "https://localhost:8080/"
    },
    "executionInfo": {
     "elapsed": 673,
     "status": "ok",
     "timestamp": 1646903706317,
     "user": {
      "displayName": "Ovuowo Rukevwe",
      "photoUrl": "https://lh3.googleusercontent.com/a/default-user=s64",
      "userId": "05710236961773607660"
     },
     "user_tz": -60
    },
    "id": "fWoh9ZCP8SZa",
    "outputId": "cd23bb80-44a2-4b5a-959f-7aa19e67392b"
   },
   "outputs": [
    {
     "name": "stdout",
     "output_type": "stream",
     "text": [
      "<class 'pandas.core.frame.DataFrame'>\n",
      "RangeIndex: 3015853 entries, 0 to 3015852\n",
      "Data columns (total 47 columns):\n",
      " #   Column                 Dtype  \n",
      "---  ------                 -----  \n",
      " 0   ID                     object \n",
      " 1   Severity               int64  \n",
      " 2   Start_Time             object \n",
      " 3   End_Time               object \n",
      " 4   Start_Lat              float64\n",
      " 5   Start_Lng              float64\n",
      " 6   End_Lat                float64\n",
      " 7   End_Lng                float64\n",
      " 8   Distance(mi)           float64\n",
      " 9   Description            object \n",
      " 10  Number                 float64\n",
      " 11  Street                 object \n",
      " 12  Side                   object \n",
      " 13  City                   object \n",
      " 14  County                 object \n",
      " 15  State                  object \n",
      " 16  Zipcode                object \n",
      " 17  Country                object \n",
      " 18  Timezone               object \n",
      " 19  Airport_Code           object \n",
      " 20  Weather_Timestamp      object \n",
      " 21  Temperature(F)         float64\n",
      " 22  Wind_Chill(F)          float64\n",
      " 23  Humidity(%)            float64\n",
      " 24  Pressure(in)           float64\n",
      " 25  Visibility(mi)         float64\n",
      " 26  Wind_Direction         object \n",
      " 27  Wind_Speed(mph)        float64\n",
      " 28  Precipitation(in)      float64\n",
      " 29  Weather_Condition      object \n",
      " 30  Amenity                bool   \n",
      " 31  Bump                   bool   \n",
      " 32  Crossing               bool   \n",
      " 33  Give_Way               bool   \n",
      " 34  Junction               bool   \n",
      " 35  No_Exit                bool   \n",
      " 36  Railway                bool   \n",
      " 37  Roundabout             bool   \n",
      " 38  Station                bool   \n",
      " 39  Stop                   bool   \n",
      " 40  Traffic_Calming        bool   \n",
      " 41  Traffic_Signal         bool   \n",
      " 42  Turning_Loop           bool   \n",
      " 43  Sunrise_Sunset         object \n",
      " 44  Civil_Twilight         object \n",
      " 45  Nautical_Twilight      object \n",
      " 46  Astronomical_Twilight  object \n",
      "dtypes: bool(13), float64(13), int64(1), object(20)\n",
      "memory usage: 819.7+ MB\n"
     ]
    }
   ],
   "source": [
    "df.info()"
   ]
  },
  {
   "cell_type": "code",
   "execution_count": 20,
   "metadata": {
    "colab": {
     "base_uri": "https://localhost:8080/",
     "height": 364
    },
    "executionInfo": {
     "elapsed": 1983,
     "status": "ok",
     "timestamp": 1646903719364,
     "user": {
      "displayName": "Ovuowo Rukevwe",
      "photoUrl": "https://lh3.googleusercontent.com/a/default-user=s64",
      "userId": "05710236961773607660"
     },
     "user_tz": -60
    },
    "id": "UoecSyFDBcG5",
    "outputId": "a1c8dcdd-86c4-47af-ac4a-60e2f8275ffb"
   },
   "outputs": [
    {
     "data": {
      "text/html": [
       "\n",
       "  <div id=\"df-2492d954-2f18-4fbc-9081-ec6641b89e29\">\n",
       "    <div class=\"colab-df-container\">\n",
       "      <div>\n",
       "<style scoped>\n",
       "    .dataframe tbody tr th:only-of-type {\n",
       "        vertical-align: middle;\n",
       "    }\n",
       "\n",
       "    .dataframe tbody tr th {\n",
       "        vertical-align: top;\n",
       "    }\n",
       "\n",
       "    .dataframe thead th {\n",
       "        text-align: right;\n",
       "    }\n",
       "</style>\n",
       "<table border=\"1\" class=\"dataframe\">\n",
       "  <thead>\n",
       "    <tr style=\"text-align: right;\">\n",
       "      <th></th>\n",
       "      <th>Severity</th>\n",
       "      <th>Start_Lat</th>\n",
       "      <th>Start_Lng</th>\n",
       "      <th>End_Lat</th>\n",
       "      <th>End_Lng</th>\n",
       "      <th>Distance(mi)</th>\n",
       "      <th>Number</th>\n",
       "      <th>Temperature(F)</th>\n",
       "      <th>Wind_Chill(F)</th>\n",
       "      <th>Humidity(%)</th>\n",
       "      <th>Pressure(in)</th>\n",
       "      <th>Visibility(mi)</th>\n",
       "      <th>Wind_Speed(mph)</th>\n",
       "      <th>Precipitation(in)</th>\n",
       "    </tr>\n",
       "  </thead>\n",
       "  <tbody>\n",
       "    <tr>\n",
       "      <th>count</th>\n",
       "      <td>3.015853e+06</td>\n",
       "      <td>3.015853e+06</td>\n",
       "      <td>3.015853e+06</td>\n",
       "      <td>3.015853e+06</td>\n",
       "      <td>3.015853e+06</td>\n",
       "      <td>3.015853e+06</td>\n",
       "      <td>1.174732e+06</td>\n",
       "      <td>2.941347e+06</td>\n",
       "      <td>2.524905e+06</td>\n",
       "      <td>2.937191e+06</td>\n",
       "      <td>2.952023e+06</td>\n",
       "      <td>2.939850e+06</td>\n",
       "      <td>2.849124e+06</td>\n",
       "      <td>2.442304e+06</td>\n",
       "    </tr>\n",
       "    <tr>\n",
       "      <th>mean</th>\n",
       "      <td>2.140779e+00</td>\n",
       "      <td>3.628466e+01</td>\n",
       "      <td>-9.683807e+01</td>\n",
       "      <td>3.628478e+01</td>\n",
       "      <td>-9.683782e+01</td>\n",
       "      <td>7.082974e-01</td>\n",
       "      <td>8.042575e+03</td>\n",
       "      <td>6.155521e+01</td>\n",
       "      <td>5.936960e+01</td>\n",
       "      <td>6.451032e+01</td>\n",
       "      <td>2.946402e+01</td>\n",
       "      <td>9.090539e+00</td>\n",
       "      <td>7.375893e+00</td>\n",
       "      <td>6.928912e-03</td>\n",
       "    </tr>\n",
       "    <tr>\n",
       "      <th>std</th>\n",
       "      <td>4.861732e-01</td>\n",
       "      <td>5.355838e+00</td>\n",
       "      <td>1.829096e+01</td>\n",
       "      <td>5.355914e+00</td>\n",
       "      <td>1.829076e+01</td>\n",
       "      <td>1.584728e+00</td>\n",
       "      <td>1.817221e+04</td>\n",
       "      <td>1.867439e+01</td>\n",
       "      <td>2.121067e+01</td>\n",
       "      <td>2.288266e+01</td>\n",
       "      <td>1.055155e+00</td>\n",
       "      <td>2.722835e+00</td>\n",
       "      <td>5.527790e+00</td>\n",
       "      <td>9.176873e-02</td>\n",
       "    </tr>\n",
       "    <tr>\n",
       "      <th>min</th>\n",
       "      <td>1.000000e+00</td>\n",
       "      <td>2.456603e+01</td>\n",
       "      <td>-1.245481e+02</td>\n",
       "      <td>2.456601e+01</td>\n",
       "      <td>-1.245457e+02</td>\n",
       "      <td>0.000000e+00</td>\n",
       "      <td>0.000000e+00</td>\n",
       "      <td>-8.900000e+01</td>\n",
       "      <td>-8.900000e+01</td>\n",
       "      <td>1.000000e+00</td>\n",
       "      <td>0.000000e+00</td>\n",
       "      <td>0.000000e+00</td>\n",
       "      <td>0.000000e+00</td>\n",
       "      <td>0.000000e+00</td>\n",
       "    </tr>\n",
       "    <tr>\n",
       "      <th>25%</th>\n",
       "      <td>2.000000e+00</td>\n",
       "      <td>3.346218e+01</td>\n",
       "      <td>-1.179876e+02</td>\n",
       "      <td>3.346220e+01</td>\n",
       "      <td>-1.179882e+02</td>\n",
       "      <td>5.100000e-02</td>\n",
       "      <td>1.242000e+03</td>\n",
       "      <td>4.900000e+01</td>\n",
       "      <td>4.600000e+01</td>\n",
       "      <td>4.800000e+01</td>\n",
       "      <td>2.930000e+01</td>\n",
       "      <td>1.000000e+01</td>\n",
       "      <td>3.500000e+00</td>\n",
       "      <td>0.000000e+00</td>\n",
       "    </tr>\n",
       "    <tr>\n",
       "      <th>50%</th>\n",
       "      <td>2.000000e+00</td>\n",
       "      <td>3.614557e+01</td>\n",
       "      <td>-9.116184e+01</td>\n",
       "      <td>3.614717e+01</td>\n",
       "      <td>-9.116125e+01</td>\n",
       "      <td>2.430000e-01</td>\n",
       "      <td>3.998000e+03</td>\n",
       "      <td>6.300000e+01</td>\n",
       "      <td>6.300000e+01</td>\n",
       "      <td>6.700000e+01</td>\n",
       "      <td>2.982000e+01</td>\n",
       "      <td>1.000000e+01</td>\n",
       "      <td>7.000000e+00</td>\n",
       "      <td>0.000000e+00</td>\n",
       "    </tr>\n",
       "    <tr>\n",
       "      <th>75%</th>\n",
       "      <td>2.000000e+00</td>\n",
       "      <td>4.020040e+01</td>\n",
       "      <td>-8.034694e+01</td>\n",
       "      <td>4.020168e+01</td>\n",
       "      <td>-8.034852e+01</td>\n",
       "      <td>7.710000e-01</td>\n",
       "      <td>9.500000e+03</td>\n",
       "      <td>7.600000e+01</td>\n",
       "      <td>7.500000e+01</td>\n",
       "      <td>8.400000e+01</td>\n",
       "      <td>3.001000e+01</td>\n",
       "      <td>1.000000e+01</td>\n",
       "      <td>1.000000e+01</td>\n",
       "      <td>0.000000e+00</td>\n",
       "    </tr>\n",
       "    <tr>\n",
       "      <th>max</th>\n",
       "      <td>4.000000e+00</td>\n",
       "      <td>4.900058e+01</td>\n",
       "      <td>-6.711317e+01</td>\n",
       "      <td>4.907500e+01</td>\n",
       "      <td>-6.710924e+01</td>\n",
       "      <td>1.551860e+02</td>\n",
       "      <td>9.999997e+06</td>\n",
       "      <td>1.960000e+02</td>\n",
       "      <td>1.960000e+02</td>\n",
       "      <td>1.000000e+02</td>\n",
       "      <td>5.890000e+01</td>\n",
       "      <td>1.400000e+02</td>\n",
       "      <td>1.087000e+03</td>\n",
       "      <td>2.400000e+01</td>\n",
       "    </tr>\n",
       "  </tbody>\n",
       "</table>\n",
       "</div>\n",
       "      <button class=\"colab-df-convert\" onclick=\"convertToInteractive('df-2492d954-2f18-4fbc-9081-ec6641b89e29')\"\n",
       "              title=\"Convert this dataframe to an interactive table.\"\n",
       "              style=\"display:none;\">\n",
       "        \n",
       "  <svg xmlns=\"http://www.w3.org/2000/svg\" height=\"24px\"viewBox=\"0 0 24 24\"\n",
       "       width=\"24px\">\n",
       "    <path d=\"M0 0h24v24H0V0z\" fill=\"none\"/>\n",
       "    <path d=\"M18.56 5.44l.94 2.06.94-2.06 2.06-.94-2.06-.94-.94-2.06-.94 2.06-2.06.94zm-11 1L8.5 8.5l.94-2.06 2.06-.94-2.06-.94L8.5 2.5l-.94 2.06-2.06.94zm10 10l.94 2.06.94-2.06 2.06-.94-2.06-.94-.94-2.06-.94 2.06-2.06.94z\"/><path d=\"M17.41 7.96l-1.37-1.37c-.4-.4-.92-.59-1.43-.59-.52 0-1.04.2-1.43.59L10.3 9.45l-7.72 7.72c-.78.78-.78 2.05 0 2.83L4 21.41c.39.39.9.59 1.41.59.51 0 1.02-.2 1.41-.59l7.78-7.78 2.81-2.81c.8-.78.8-2.07 0-2.86zM5.41 20L4 18.59l7.72-7.72 1.47 1.35L5.41 20z\"/>\n",
       "  </svg>\n",
       "      </button>\n",
       "      \n",
       "  <style>\n",
       "    .colab-df-container {\n",
       "      display:flex;\n",
       "      flex-wrap:wrap;\n",
       "      gap: 12px;\n",
       "    }\n",
       "\n",
       "    .colab-df-convert {\n",
       "      background-color: #E8F0FE;\n",
       "      border: none;\n",
       "      border-radius: 50%;\n",
       "      cursor: pointer;\n",
       "      display: none;\n",
       "      fill: #1967D2;\n",
       "      height: 32px;\n",
       "      padding: 0 0 0 0;\n",
       "      width: 32px;\n",
       "    }\n",
       "\n",
       "    .colab-df-convert:hover {\n",
       "      background-color: #E2EBFA;\n",
       "      box-shadow: 0px 1px 2px rgba(60, 64, 67, 0.3), 0px 1px 3px 1px rgba(60, 64, 67, 0.15);\n",
       "      fill: #174EA6;\n",
       "    }\n",
       "\n",
       "    [theme=dark] .colab-df-convert {\n",
       "      background-color: #3B4455;\n",
       "      fill: #D2E3FC;\n",
       "    }\n",
       "\n",
       "    [theme=dark] .colab-df-convert:hover {\n",
       "      background-color: #434B5C;\n",
       "      box-shadow: 0px 1px 3px 1px rgba(0, 0, 0, 0.15);\n",
       "      filter: drop-shadow(0px 1px 2px rgba(0, 0, 0, 0.3));\n",
       "      fill: #FFFFFF;\n",
       "    }\n",
       "  </style>\n",
       "\n",
       "      <script>\n",
       "        const buttonEl =\n",
       "          document.querySelector('#df-2492d954-2f18-4fbc-9081-ec6641b89e29 button.colab-df-convert');\n",
       "        buttonEl.style.display =\n",
       "          google.colab.kernel.accessAllowed ? 'block' : 'none';\n",
       "\n",
       "        async function convertToInteractive(key) {\n",
       "          const element = document.querySelector('#df-2492d954-2f18-4fbc-9081-ec6641b89e29');\n",
       "          const dataTable =\n",
       "            await google.colab.kernel.invokeFunction('convertToInteractive',\n",
       "                                                     [key], {});\n",
       "          if (!dataTable) return;\n",
       "\n",
       "          const docLinkHtml = 'Like what you see? Visit the ' +\n",
       "            '<a target=\"_blank\" href=https://colab.research.google.com/notebooks/data_table.ipynb>data table notebook</a>'\n",
       "            + ' to learn more about interactive tables.';\n",
       "          element.innerHTML = '';\n",
       "          dataTable['output_type'] = 'display_data';\n",
       "          await google.colab.output.renderOutput(dataTable, element);\n",
       "          const docLink = document.createElement('div');\n",
       "          docLink.innerHTML = docLinkHtml;\n",
       "          element.appendChild(docLink);\n",
       "        }\n",
       "      </script>\n",
       "    </div>\n",
       "  </div>\n",
       "  "
      ],
      "text/plain": [
       "           Severity     Start_Lat     Start_Lng       End_Lat       End_Lng  \\\n",
       "count  3.015853e+06  3.015853e+06  3.015853e+06  3.015853e+06  3.015853e+06   \n",
       "mean   2.140779e+00  3.628466e+01 -9.683807e+01  3.628478e+01 -9.683782e+01   \n",
       "std    4.861732e-01  5.355838e+00  1.829096e+01  5.355914e+00  1.829076e+01   \n",
       "min    1.000000e+00  2.456603e+01 -1.245481e+02  2.456601e+01 -1.245457e+02   \n",
       "25%    2.000000e+00  3.346218e+01 -1.179876e+02  3.346220e+01 -1.179882e+02   \n",
       "50%    2.000000e+00  3.614557e+01 -9.116184e+01  3.614717e+01 -9.116125e+01   \n",
       "75%    2.000000e+00  4.020040e+01 -8.034694e+01  4.020168e+01 -8.034852e+01   \n",
       "max    4.000000e+00  4.900058e+01 -6.711317e+01  4.907500e+01 -6.710924e+01   \n",
       "\n",
       "       Distance(mi)        Number  Temperature(F)  Wind_Chill(F)  \\\n",
       "count  3.015853e+06  1.174732e+06    2.941347e+06   2.524905e+06   \n",
       "mean   7.082974e-01  8.042575e+03    6.155521e+01   5.936960e+01   \n",
       "std    1.584728e+00  1.817221e+04    1.867439e+01   2.121067e+01   \n",
       "min    0.000000e+00  0.000000e+00   -8.900000e+01  -8.900000e+01   \n",
       "25%    5.100000e-02  1.242000e+03    4.900000e+01   4.600000e+01   \n",
       "50%    2.430000e-01  3.998000e+03    6.300000e+01   6.300000e+01   \n",
       "75%    7.710000e-01  9.500000e+03    7.600000e+01   7.500000e+01   \n",
       "max    1.551860e+02  9.999997e+06    1.960000e+02   1.960000e+02   \n",
       "\n",
       "        Humidity(%)  Pressure(in)  Visibility(mi)  Wind_Speed(mph)  \\\n",
       "count  2.937191e+06  2.952023e+06    2.939850e+06     2.849124e+06   \n",
       "mean   6.451032e+01  2.946402e+01    9.090539e+00     7.375893e+00   \n",
       "std    2.288266e+01  1.055155e+00    2.722835e+00     5.527790e+00   \n",
       "min    1.000000e+00  0.000000e+00    0.000000e+00     0.000000e+00   \n",
       "25%    4.800000e+01  2.930000e+01    1.000000e+01     3.500000e+00   \n",
       "50%    6.700000e+01  2.982000e+01    1.000000e+01     7.000000e+00   \n",
       "75%    8.400000e+01  3.001000e+01    1.000000e+01     1.000000e+01   \n",
       "max    1.000000e+02  5.890000e+01    1.400000e+02     1.087000e+03   \n",
       "\n",
       "       Precipitation(in)  \n",
       "count       2.442304e+06  \n",
       "mean        6.928912e-03  \n",
       "std         9.176873e-02  \n",
       "min         0.000000e+00  \n",
       "25%         0.000000e+00  \n",
       "50%         0.000000e+00  \n",
       "75%         0.000000e+00  \n",
       "max         2.400000e+01  "
      ]
     },
     "execution_count": 20,
     "metadata": {},
     "output_type": "execute_result"
    }
   ],
   "source": [
    "df.describe()"
   ]
  },
  {
   "cell_type": "code",
   "execution_count": 21,
   "metadata": {
    "colab": {
     "base_uri": "https://localhost:8080/"
    },
    "executionInfo": {
     "elapsed": 477,
     "status": "ok",
     "timestamp": 1646903729926,
     "user": {
      "displayName": "Ovuowo Rukevwe",
      "photoUrl": "https://lh3.googleusercontent.com/a/default-user=s64",
      "userId": "05710236961773607660"
     },
     "user_tz": -60
    },
    "id": "-rPoZHXZKzcy",
    "outputId": "1666ef25-2776-4cb1-8b94-99ca1fc78206"
   },
   "outputs": [
    {
     "data": {
      "text/plain": [
       "14"
      ]
     },
     "execution_count": 21,
     "metadata": {},
     "output_type": "execute_result"
    }
   ],
   "source": [
    "numerics = ['int16', 'int32', 'int64', 'float16', 'float32', 'float64']\n",
    "numeric_df = df.select_dtypes(include=numerics)\n",
    "len(numeric_df.columns)"
   ]
  },
  {
   "cell_type": "markdown",
   "metadata": {
    "id": "6ctwPAZAhejG"
   },
   "source": [
    "## Percentage of missing columns"
   ]
  },
  {
   "cell_type": "code",
   "execution_count": 22,
   "metadata": {
    "colab": {
     "base_uri": "https://localhost:8080/"
    },
    "executionInfo": {
     "elapsed": 2748,
     "status": "ok",
     "timestamp": 1646903797053,
     "user": {
      "displayName": "Ovuowo Rukevwe",
      "photoUrl": "https://lh3.googleusercontent.com/a/default-user=s64",
      "userId": "05710236961773607660"
     },
     "user_tz": -60
    },
    "id": "_bzHe8WOKzWP",
    "outputId": "9c02f5c9-8e7d-49c3-db2d-60da75d7cec3"
   },
   "outputs": [
    {
     "data": {
      "text/plain": [
       "Number                   6.104810e-01\n",
       "Precipitation(in)        1.901780e-01\n",
       "Wind_Chill(F)            1.627891e-01\n",
       "Wind_Speed(mph)          5.528419e-02\n",
       "Wind_Direction           2.643696e-02\n",
       "Humidity(%)              2.608284e-02\n",
       "Weather_Condition        2.525189e-02\n",
       "Visibility(mi)           2.520116e-02\n",
       "Temperature(F)           2.470479e-02\n",
       "Pressure(in)             2.116482e-02\n",
       "Weather_Timestamp        1.821607e-02\n",
       "Airport_Code             3.405670e-03\n",
       "Timezone                 1.280898e-03\n",
       "Nautical_Twilight        1.137323e-03\n",
       "Civil_Twilight           1.137323e-03\n",
       "Sunrise_Sunset           1.137323e-03\n",
       "Astronomical_Twilight    1.137323e-03\n",
       "Zipcode                  4.778084e-04\n",
       "City                     4.708452e-05\n",
       "Street                   6.631623e-07\n",
       "Country                  0.000000e+00\n",
       "Junction                 0.000000e+00\n",
       "Start_Time               0.000000e+00\n",
       "End_Time                 0.000000e+00\n",
       "Start_Lat                0.000000e+00\n",
       "Turning_Loop             0.000000e+00\n",
       "Traffic_Signal           0.000000e+00\n",
       "Traffic_Calming          0.000000e+00\n",
       "Stop                     0.000000e+00\n",
       "Station                  0.000000e+00\n",
       "Roundabout               0.000000e+00\n",
       "Railway                  0.000000e+00\n",
       "No_Exit                  0.000000e+00\n",
       "Crossing                 0.000000e+00\n",
       "Give_Way                 0.000000e+00\n",
       "Bump                     0.000000e+00\n",
       "Amenity                  0.000000e+00\n",
       "Start_Lng                0.000000e+00\n",
       "End_Lat                  0.000000e+00\n",
       "End_Lng                  0.000000e+00\n",
       "Distance(mi)             0.000000e+00\n",
       "Description              0.000000e+00\n",
       "Severity                 0.000000e+00\n",
       "Side                     0.000000e+00\n",
       "County                   0.000000e+00\n",
       "State                    0.000000e+00\n",
       "ID                       0.000000e+00\n",
       "dtype: float64"
      ]
     },
     "execution_count": 22,
     "metadata": {},
     "output_type": "execute_result"
    }
   ],
   "source": [
    "missing_percentage = df.isna().sum().sort_values(ascending=False) / len(df)\n",
    "missing_percentage"
   ]
  },
  {
   "cell_type": "code",
   "execution_count": 23,
   "metadata": {
    "colab": {
     "base_uri": "https://localhost:8080/"
    },
    "executionInfo": {
     "elapsed": 524,
     "status": "ok",
     "timestamp": 1646903841627,
     "user": {
      "displayName": "Ovuowo Rukevwe",
      "photoUrl": "https://lh3.googleusercontent.com/a/default-user=s64",
      "userId": "05710236961773607660"
     },
     "user_tz": -60
    },
    "id": "GSQa4LP8iU0C",
    "outputId": "3c5684ac-a49f-49bc-ac65-1c4adbae7678"
   },
   "outputs": [
    {
     "data": {
      "text/plain": [
       "pandas.core.series.Series"
      ]
     },
     "execution_count": 23,
     "metadata": {},
     "output_type": "execute_result"
    }
   ],
   "source": [
    "type(missing_percentage)"
   ]
  },
  {
   "cell_type": "markdown",
   "metadata": {
    "id": "sQzAvy14kA-U"
   },
   "source": [
    "## when you use values as an index, it will keep just those values that are true i.e [ ] something like this"
   ]
  },
  {
   "cell_type": "code",
   "execution_count": 24,
   "metadata": {
    "colab": {
     "base_uri": "https://localhost:8080/"
    },
    "executionInfo": {
     "elapsed": 586,
     "status": "ok",
     "timestamp": 1646903848166,
     "user": {
      "displayName": "Ovuowo Rukevwe",
      "photoUrl": "https://lh3.googleusercontent.com/a/default-user=s64",
      "userId": "05710236961773607660"
     },
     "user_tz": -60
    },
    "id": "7z8RwndCk6JC",
    "outputId": "789fc905-bdb5-4f3e-dd32-dcd295923a5b"
   },
   "outputs": [
    {
     "data": {
      "text/plain": [
       "Number                   6.104810e-01\n",
       "Precipitation(in)        1.901780e-01\n",
       "Wind_Chill(F)            1.627891e-01\n",
       "Wind_Speed(mph)          5.528419e-02\n",
       "Wind_Direction           2.643696e-02\n",
       "Humidity(%)              2.608284e-02\n",
       "Weather_Condition        2.525189e-02\n",
       "Visibility(mi)           2.520116e-02\n",
       "Temperature(F)           2.470479e-02\n",
       "Pressure(in)             2.116482e-02\n",
       "Weather_Timestamp        1.821607e-02\n",
       "Airport_Code             3.405670e-03\n",
       "Timezone                 1.280898e-03\n",
       "Nautical_Twilight        1.137323e-03\n",
       "Civil_Twilight           1.137323e-03\n",
       "Sunrise_Sunset           1.137323e-03\n",
       "Astronomical_Twilight    1.137323e-03\n",
       "Zipcode                  4.778084e-04\n",
       "City                     4.708452e-05\n",
       "Street                   6.631623e-07\n",
       "dtype: float64"
      ]
     },
     "execution_count": 24,
     "metadata": {},
     "output_type": "execute_result"
    }
   ],
   "source": [
    "missing_percentage[missing_percentage != 0]"
   ]
  },
  {
   "cell_type": "code",
   "execution_count": 25,
   "metadata": {
    "colab": {
     "base_uri": "https://localhost:8080/",
     "height": 282
    },
    "executionInfo": {
     "elapsed": 633,
     "status": "ok",
     "timestamp": 1646903856740,
     "user": {
      "displayName": "Ovuowo Rukevwe",
      "photoUrl": "https://lh3.googleusercontent.com/a/default-user=s64",
      "userId": "05710236961773607660"
     },
     "user_tz": -60
    },
    "id": "zsxH3zR6iU-_",
    "outputId": "5599adc8-b389-4400-bd83-52413b824bc8"
   },
   "outputs": [
    {
     "data": {
      "text/plain": [
       "<matplotlib.axes._subplots.AxesSubplot at 0x7f2e9cde68d0>"
      ]
     },
     "execution_count": 25,
     "metadata": {},
     "output_type": "execute_result"
    },
    {
     "data": {
      "image/png": "[encoded data removed]",
      "text/plain": [
       "<Figure size 432x288 with 1 Axes>"
      ]
     },
     "metadata": {
      "needs_background": "light"
     },
     "output_type": "display_data"
    }
   ],
   "source": [
    "missing_percentage[missing_percentage != 0].plot(kind='barh')"
   ]
  },
  {
   "cell_type": "markdown",
   "metadata": {
    "id": "Scx03CDmnyFZ"
   },
   "source": [
    "## Remove columns that has a high volume of missing data because it won't add to our analysis"
   ]
  },
  {
   "cell_type": "markdown",
   "metadata": {
    "id": "VBUHvxN8sEn6"
   },
   "source": [
    "## Exploratory data analysis and visualization\n",
    "\n",
    "content we'll analyze;\n",
    "1. city\n",
    "2. Start_Time \n",
    "3. Start_Lat, Start_Lng\n",
    "4. Temperature\n",
    "5. Weather_Condition"
   ]
  },
  {
   "cell_type": "markdown",
   "metadata": {
    "id": "3z8q4Ppya0k-"
   },
   "source": [
    "###City"
   ]
  },
  {
   "cell_type": "code",
   "execution_count": 26,
   "metadata": {
    "colab": {
     "base_uri": "https://localhost:8080/"
    },
    "executionInfo": {
     "elapsed": 554,
     "status": "ok",
     "timestamp": 1646904338837,
     "user": {
      "displayName": "Ovuowo Rukevwe",
      "photoUrl": "https://lh3.googleusercontent.com/a/default-user=s64",
      "userId": "05710236961773607660"
     },
     "user_tz": -60
    },
    "id": "_x_Qo4ngr8F4",
    "outputId": "0325aa6a-4906-413d-f10c-0d60d1a37f41"
   },
   "outputs": [
    {
     "data": {
      "text/plain": [
       "0               Dublin\n",
       "1               Dayton\n",
       "2           Cincinnati\n",
       "3           Cincinnati\n",
       "4                Akron\n",
       "              ...     \n",
       "3015848      Riverside\n",
       "3015849      San Diego\n",
       "3015850         Orange\n",
       "3015851    Culver City\n",
       "3015852       Highland\n",
       "Name: City, Length: 3015853, dtype: object"
      ]
     },
     "execution_count": 26,
     "metadata": {},
     "output_type": "execute_result"
    }
   ],
   "source": [
    "df.City"
   ]
  },
  {
   "cell_type": "code",
   "execution_count": 27,
   "metadata": {
    "colab": {
     "base_uri": "https://localhost:8080/"
    },
    "executionInfo": {
     "elapsed": 523,
     "status": "ok",
     "timestamp": 1646904345242,
     "user": {
      "displayName": "Ovuowo Rukevwe",
      "photoUrl": "https://lh3.googleusercontent.com/a/default-user=s64",
      "userId": "05710236961773607660"
     },
     "user_tz": -60
    },
    "id": "Xf9JJ34Hr7_a",
    "outputId": "0fd9a27f-99c7-48ab-faae-c4bef1334d52"
   },
   "outputs": [
    {
     "data": {
      "text/plain": [
       "11706"
      ]
     },
     "execution_count": 27,
     "metadata": {},
     "output_type": "execute_result"
    }
   ],
   "source": [
    "cities = df.City.unique()\n",
    "len(cities)"
   ]
  },
  {
   "cell_type": "code",
   "execution_count": 28,
   "metadata": {
    "colab": {
     "base_uri": "https://localhost:8080/"
    },
    "executionInfo": {
     "elapsed": 717,
     "status": "ok",
     "timestamp": 1646904348246,
     "user": {
      "displayName": "Ovuowo Rukevwe",
      "photoUrl": "https://lh3.googleusercontent.com/a/default-user=s64",
      "userId": "05710236961773607660"
     },
     "user_tz": -60
    },
    "id": "N8h4YLk5wPnl",
    "outputId": "ec75ab83-3d3d-4cf9-c4e7-c0b5be8b119c"
   },
   "outputs": [
    {
     "data": {
      "text/plain": [
       "Miami                           110984\n",
       "Los Angeles                      71045\n",
       "Orlando                          56750\n",
       "Dallas                           43445\n",
       "Houston                          40950\n",
       "                                 ...  \n",
       "Holcombe                             1\n",
       "Muskego                              1\n",
       "Woodway                              1\n",
       "Merigold                             1\n",
       "American Fork-Pleasant Grove         1\n",
       "Name: City, Length: 11705, dtype: int64"
      ]
     },
     "execution_count": 28,
     "metadata": {},
     "output_type": "execute_result"
    }
   ],
   "source": [
    "cities_by_accident = df.City.value_counts()\n",
    "cities_by_accident"
   ]
  },
  {
   "cell_type": "code",
   "execution_count": 32,
   "metadata": {
    "colab": {
     "base_uri": "https://localhost:8080/"
    },
    "executionInfo": {
     "elapsed": 524,
     "status": "ok",
     "timestamp": 1646904401774,
     "user": {
      "displayName": "Ovuowo Rukevwe",
      "photoUrl": "https://lh3.googleusercontent.com/a/default-user=s64",
      "userId": "05710236961773607660"
     },
     "user_tz": -60
    },
    "id": "ZkvFmTvvaf3S",
    "outputId": "c474cd70-9032-42cd-f3e0-e85b73ffd3f6"
   },
   "outputs": [
    {
     "data": {
      "text/plain": [
       "Miami          110984\n",
       "Los Angeles     71045\n",
       "Orlando         56750\n",
       "Dallas          43445\n",
       "Houston         40950\n",
       "Charlotte       37307\n",
       "Sacramento      33516\n",
       "San Diego       27450\n",
       "Raleigh         24068\n",
       "Minneapolis     23876\n",
       "Portland        21779\n",
       "Nashville       21206\n",
       "Austin          19647\n",
       "Baton Rouge     19270\n",
       "Phoenix         17999\n",
       "Name: City, dtype: int64"
      ]
     },
     "execution_count": 32,
     "metadata": {},
     "output_type": "execute_result"
    }
   ],
   "source": [
    "cities_by_accident[:15]"
   ]
  },
  {
   "cell_type": "code",
   "execution_count": 34,
   "metadata": {
    "colab": {
     "base_uri": "https://localhost:8080/",
     "height": 282
    },
    "executionInfo": {
     "elapsed": 561,
     "status": "ok",
     "timestamp": 1646904416292,
     "user": {
      "displayName": "Ovuowo Rukevwe",
      "photoUrl": "https://lh3.googleusercontent.com/a/default-user=s64",
      "userId": "05710236961773607660"
     },
     "user_tz": -60
    },
    "id": "XggDix6gafvt",
    "outputId": "81996113-9555-4148-a27e-e4ea6929e88f"
   },
   "outputs": [
    {
     "data": {
      "text/plain": [
       "<matplotlib.axes._subplots.AxesSubplot at 0x7f2ea4e53f90>"
      ]
     },
     "execution_count": 34,
     "metadata": {},
     "output_type": "execute_result"
    },
    {
     "data": {
      "image/png": "[encoded data removed]",
      "text/plain": [
       "<Figure size 432x288 with 1 Axes>"
      ]
     },
     "metadata": {
      "needs_background": "light"
     },
     "output_type": "display_data"
    }
   ],
   "source": [
    "cities_by_accident[:15].plot(kind='barh')"
   ]
  },
  {
   "cell_type": "code",
   "execution_count": 35,
   "metadata": {
    "executionInfo": {
     "elapsed": 1277,
     "status": "ok",
     "timestamp": 1646904437793,
     "user": {
      "displayName": "Ovuowo Rukevwe",
      "photoUrl": "https://lh3.googleusercontent.com/a/default-user=s64",
      "userId": "05710236961773607660"
     },
     "user_tz": -60
    },
    "id": "jNll12c6McjO"
   },
   "outputs": [],
   "source": [
    "import seaborn as sns\n",
    "sns.set_style('darkgrid')"
   ]
  },
  {
   "cell_type": "code",
   "execution_count": 36,
   "metadata": {
    "colab": {
     "base_uri": "https://localhost:8080/",
     "height": 351
    },
    "executionInfo": {
     "elapsed": 1300,
     "status": "ok",
     "timestamp": 1646904451370,
     "user": {
      "displayName": "Ovuowo Rukevwe",
      "photoUrl": "https://lh3.googleusercontent.com/a/default-user=s64",
      "userId": "05710236961773607660"
     },
     "user_tz": -60
    },
    "id": "-8pCWe_RPzIq",
    "outputId": "d28cfe55-e854-49eb-ed3d-05b2eb1b45ec"
   },
   "outputs": [
    {
     "name": "stderr",
     "output_type": "stream",
     "text": [
      "/usr/local/lib/python3.7/dist-packages/seaborn/distributions.py:2619: FutureWarning: `distplot` is a deprecated function and will be removed in a future version. Please adapt your code to use either `displot` (a figure-level function with similar flexibility) or `histplot` (an axes-level function for histograms).\n",
      "  warnings.warn(msg, FutureWarning)\n"
     ]
    },
    {
     "data": {
      "text/plain": [
       "<matplotlib.axes._subplots.AxesSubplot at 0x7f2e9f7ccbd0>"
      ]
     },
     "execution_count": 36,
     "metadata": {},
     "output_type": "execute_result"
    },
    {
     "data": {
      "image/png": "[encoded data removed]",
      "text/plain": [
       "<Figure size 432x288 with 1 Axes>"
      ]
     },
     "metadata": {},
     "output_type": "display_data"
    }
   ],
   "source": [
    "sns.distplot(cities_by_accident)"
   ]
  },
  {
   "cell_type": "code",
   "execution_count": 37,
   "metadata": {
    "executionInfo": {
     "elapsed": 450,
     "status": "ok",
     "timestamp": 1646904476151,
     "user": {
      "displayName": "Ovuowo Rukevwe",
      "photoUrl": "https://lh3.googleusercontent.com/a/default-user=s64",
      "userId": "05710236961773607660"
     },
     "user_tz": -60
    },
    "id": "Tcyuus_RPzC2"
   },
   "outputs": [],
   "source": [
    "high_accident_cities  = cities_by_accident[cities_by_accident >= 1000]\n",
    "low_accident_cities = cities_by_accident[cities_by_accident < 1000]"
   ]
  },
  {
   "cell_type": "code",
   "execution_count": 38,
   "metadata": {
    "colab": {
     "base_uri": "https://localhost:8080/"
    },
    "executionInfo": {
     "elapsed": 481,
     "status": "ok",
     "timestamp": 1646904491941,
     "user": {
      "displayName": "Ovuowo Rukevwe",
      "photoUrl": "https://lh3.googleusercontent.com/a/default-user=s64",
      "userId": "05710236961773607660"
     },
     "user_tz": -60
    },
    "id": "41DarWuMPy6d",
    "outputId": "37e3b8dd-c84a-4c89-eb15-0f2edaf018fa"
   },
   "outputs": [
    {
     "data": {
      "text/plain": [
       "0.04544677942935247"
      ]
     },
     "execution_count": 38,
     "metadata": {},
     "output_type": "execute_result"
    }
   ],
   "source": [
    "len(high_accident_cities ) / len(cities)"
   ]
  },
  {
   "cell_type": "code",
   "execution_count": 39,
   "metadata": {
    "colab": {
     "base_uri": "https://localhost:8080/",
     "height": 354
    },
    "executionInfo": {
     "elapsed": 621,
     "status": "ok",
     "timestamp": 1646904504365,
     "user": {
      "displayName": "Ovuowo Rukevwe",
      "photoUrl": "https://lh3.googleusercontent.com/a/default-user=s64",
      "userId": "05710236961773607660"
     },
     "user_tz": -60
    },
    "id": "CECDr61APyx6",
    "outputId": "1221b883-8e48-44b1-ea70-8ea932e29a56"
   },
   "outputs": [
    {
     "name": "stderr",
     "output_type": "stream",
     "text": [
      "/usr/local/lib/python3.7/dist-packages/seaborn/distributions.py:2619: FutureWarning: `distplot` is a deprecated function and will be removed in a future version. Please adapt your code to use either `displot` (a figure-level function with similar flexibility) or `histplot` (an axes-level function for histograms).\n",
      "  warnings.warn(msg, FutureWarning)\n"
     ]
    },
    {
     "data": {
      "text/plain": [
       "<matplotlib.axes._subplots.AxesSubplot at 0x7f2ea7fd6fd0>"
      ]
     },
     "execution_count": 39,
     "metadata": {},
     "output_type": "execute_result"
    },
    {
     "data": {
      "image/png": "[encoded data removed]",
      "text/plain": [
       "<Figure size 432x288 with 1 Axes>"
      ]
     },
     "metadata": {},
     "output_type": "display_data"
    }
   ],
   "source": [
    "sns.distplot(high_accident_cities)"
   ]
  },
  {
   "cell_type": "code",
   "execution_count": 40,
   "metadata": {
    "colab": {
     "base_uri": "https://localhost:8080/"
    },
    "executionInfo": {
     "elapsed": 487,
     "status": "ok",
     "timestamp": 1646904512878,
     "user": {
      "displayName": "Ovuowo Rukevwe",
      "photoUrl": "https://lh3.googleusercontent.com/a/default-user=s64",
      "userId": "05710236961773607660"
     },
     "user_tz": -60
    },
    "id": "5lPCvsGAPyr5",
    "outputId": "5d9a115b-4d81-4be2-f378-31635d433f26"
   },
   "outputs": [
    {
     "data": {
      "text/plain": [
       "0.9544677942935247"
      ]
     },
     "execution_count": 40,
     "metadata": {},
     "output_type": "execute_result"
    }
   ],
   "source": [
    "len(low_accident_cities) / len(cities)"
   ]
  },
  {
   "cell_type": "code",
   "execution_count": 41,
   "metadata": {
    "colab": {
     "base_uri": "https://localhost:8080/",
     "height": 351
    },
    "executionInfo": {
     "elapsed": 613,
     "status": "ok",
     "timestamp": 1646904515765,
     "user": {
      "displayName": "Ovuowo Rukevwe",
      "photoUrl": "https://lh3.googleusercontent.com/a/default-user=s64",
      "userId": "05710236961773607660"
     },
     "user_tz": -60
    },
    "id": "gGZy0ujUafp7",
    "outputId": "37bae0c5-df03-42c2-f553-9d4da41ef0d1"
   },
   "outputs": [
    {
     "name": "stderr",
     "output_type": "stream",
     "text": [
      "/usr/local/lib/python3.7/dist-packages/seaborn/distributions.py:2619: FutureWarning: `distplot` is a deprecated function and will be removed in a future version. Please adapt your code to use either `displot` (a figure-level function with similar flexibility) or `histplot` (an axes-level function for histograms).\n",
      "  warnings.warn(msg, FutureWarning)\n"
     ]
    },
    {
     "data": {
      "text/plain": [
       "<matplotlib.axes._subplots.AxesSubplot at 0x7f2eb39fa590>"
      ]
     },
     "execution_count": 41,
     "metadata": {},
     "output_type": "execute_result"
    },
    {
     "data": {
      "image/png": "[encoded data removed]",
      "text/plain": [
       "<Figure size 432x288 with 1 Axes>"
      ]
     },
     "metadata": {},
     "output_type": "display_data"
    }
   ],
   "source": [
    "sns.distplot(low_accident_cities)"
   ]
  },
  {
   "cell_type": "code",
   "execution_count": 42,
   "metadata": {
    "colab": {
     "base_uri": "https://localhost:8080/",
     "height": 300
    },
    "executionInfo": {
     "elapsed": 1407,
     "status": "ok",
     "timestamp": 1646904529612,
     "user": {
      "displayName": "Ovuowo Rukevwe",
      "photoUrl": "https://lh3.googleusercontent.com/a/default-user=s64",
      "userId": "05710236961773607660"
     },
     "user_tz": -60
    },
    "id": "QgHDjyXvWwQV",
    "outputId": "ecd3900d-c66f-4dc4-f0b8-1b199d2adff5"
   },
   "outputs": [
    {
     "data": {
      "text/plain": [
       "<matplotlib.axes._subplots.AxesSubplot at 0x7f2ec06921d0>"
      ]
     },
     "execution_count": 42,
     "metadata": {},
     "output_type": "execute_result"
    },
    {
     "data": {
      "image/png": "[encoded data removed]",
      "text/plain": [
       "<Figure size 432x288 with 1 Axes>"
      ]
     },
     "metadata": {},
     "output_type": "display_data"
    }
   ],
   "source": [
    "sns.histplot(low_accident_cities, log_scale = True)"
   ]
  },
  {
   "cell_type": "code",
   "execution_count": 43,
   "metadata": {
    "colab": {
     "base_uri": "https://localhost:8080/"
    },
    "executionInfo": {
     "elapsed": 722,
     "status": "ok",
     "timestamp": 1646904544274,
     "user": {
      "displayName": "Ovuowo Rukevwe",
      "photoUrl": "https://lh3.googleusercontent.com/a/default-user=s64",
      "userId": "05710236961773607660"
     },
     "user_tz": -60
    },
    "id": "8kI6quXiWwH_",
    "outputId": "cb7b68bd-d7f5-42f5-c727-4d2d7bdb0730"
   },
   "outputs": [
    {
     "data": {
      "text/plain": [
       "Tracys Landing                  1\n",
       "Eidson                          1\n",
       "West Valley                     1\n",
       "Rapid River                     1\n",
       "Winter Garden-Ocoee             1\n",
       "                               ..\n",
       "Holcombe                        1\n",
       "Muskego                         1\n",
       "Woodway                         1\n",
       "Merigold                        1\n",
       "American Fork-Pleasant Grove    1\n",
       "Name: City, Length: 972, dtype: int64"
      ]
     },
     "execution_count": 43,
     "metadata": {},
     "output_type": "execute_result"
    }
   ],
   "source": [
    "cities_by_accident[cities_by_accident == 1]"
   ]
  },
  {
   "cell_type": "markdown",
   "metadata": {
    "id": "I0Kh8mMba8pj"
   },
   "source": [
    "### Start_Time"
   ]
  },
  {
   "cell_type": "code",
   "execution_count": 44,
   "metadata": {
    "colab": {
     "base_uri": "https://localhost:8080/"
    },
    "executionInfo": {
     "elapsed": 1266,
     "status": "ok",
     "timestamp": 1646904574279,
     "user": {
      "displayName": "Ovuowo Rukevwe",
      "photoUrl": "https://lh3.googleusercontent.com/a/default-user=s64",
      "userId": "05710236961773607660"
     },
     "user_tz": -60
    },
    "id": "QZ564J9QWv9g",
    "outputId": "6f5cdec2-3eed-4a98-da62-0ea02e5acfb1"
   },
   "outputs": [
    {
     "name": "stderr",
     "output_type": "stream",
     "text": [
      "/usr/local/lib/python3.7/dist-packages/ipykernel_launcher.py:1: UserWarning: Pandas doesn't allow columns to be created via a new attribute name - see https://pandas.pydata.org/pandas-docs/stable/indexing.html#attribute-access\n",
      "  \"\"\"Entry point for launching an IPython kernel.\n"
     ]
    },
    {
     "data": {
      "text/plain": [
       "0         2016-02-08 00:37:08\n",
       "1         2016-02-08 05:56:20\n",
       "2         2016-02-08 06:15:39\n",
       "3         2016-02-08 06:15:39\n",
       "4         2016-02-08 06:51:45\n",
       "                  ...        \n",
       "3015848   2019-08-23 18:03:25\n",
       "3015849   2019-08-23 19:11:30\n",
       "3015850   2019-08-23 19:00:21\n",
       "3015851   2019-08-23 19:00:21\n",
       "3015852   2019-08-23 18:52:06\n",
       "Name: Start_Time, Length: 3015853, dtype: datetime64[ns]"
      ]
     },
     "execution_count": 44,
     "metadata": {},
     "output_type": "execute_result"
    }
   ],
   "source": [
    "df.start_Time = pd.to_datetime(df.Start_Time)\n",
    "df.start_Time"
   ]
  },
  {
   "cell_type": "code",
   "execution_count": 45,
   "metadata": {
    "colab": {
     "base_uri": "https://localhost:8080/",
     "height": 297
    },
    "executionInfo": {
     "elapsed": 2959,
     "status": "ok",
     "timestamp": 1646904594589,
     "user": {
      "displayName": "Ovuowo Rukevwe",
      "photoUrl": "https://lh3.googleusercontent.com/a/default-user=s64",
      "userId": "05710236961773607660"
     },
     "user_tz": -60
    },
    "id": "P0R-Vvl4Wv2U",
    "outputId": "7c101a25-da80-4cbc-9f48-0061315fe274"
   },
   "outputs": [
    {
     "data": {
      "text/plain": [
       "<matplotlib.axes._subplots.AxesSubplot at 0x7f2ea84d4d90>"
      ]
     },
     "execution_count": 45,
     "metadata": {},
     "output_type": "execute_result"
    },
    {
     "data": {
      "image/png": "[encoded data removed]",
      "text/plain": [
       "<Figure size 432x288 with 1 Axes>"
      ]
     },
     "metadata": {},
     "output_type": "display_data"
    }
   ],
   "source": [
    "sns.histplot(df.start_Time.dt.hour, bins = 24, stat = 'density')"
   ]
  },
  {
   "cell_type": "markdown",
   "metadata": {
    "id": "5Fq5na3soppQ"
   },
   "source": [
    "- A high percentage of accident occured between 6am to 9am probably because people are in hurry to get to work or school.\n",
    "- Next high percentage of accident occurs between 3pm to 6pm probably people are rushing back home from work"
   ]
  },
  {
   "cell_type": "code",
   "execution_count": 46,
   "metadata": {
    "colab": {
     "base_uri": "https://localhost:8080/",
     "height": 297
    },
    "executionInfo": {
     "elapsed": 2429,
     "status": "ok",
     "timestamp": 1646904638024,
     "user": {
      "displayName": "Ovuowo Rukevwe",
      "photoUrl": "https://lh3.googleusercontent.com/a/default-user=s64",
      "userId": "05710236961773607660"
     },
     "user_tz": -60
    },
    "id": "WLYIIQe7ooW_",
    "outputId": "75ca2596-6610-478b-c23a-3c4566209d05"
   },
   "outputs": [
    {
     "data": {
      "text/plain": [
       "<matplotlib.axes._subplots.AxesSubplot at 0x7f2ed4327850>"
      ]
     },
     "execution_count": 46,
     "metadata": {},
     "output_type": "execute_result"
    },
    {
     "data": {
      "image/png": "[encoded data removed]",
      "text/plain": [
       "<Figure size 432x288 with 1 Axes>"
      ]
     },
     "metadata": {},
     "output_type": "display_data"
    }
   ],
   "source": [
    "sns.histplot(df.start_Time.dt.dayofweek, bins=7, stat='density')"
   ]
  },
  {
   "cell_type": "markdown",
   "metadata": {
    "id": "8KkIV7TLuaXW"
   },
   "source": [
    "- is the distribution of accident by hour is the same on weekdays as on weekend"
   ]
  },
  {
   "cell_type": "code",
   "execution_count": 47,
   "metadata": {
    "colab": {
     "base_uri": "https://localhost:8080/",
     "height": 297
    },
    "executionInfo": {
     "elapsed": 1318,
     "status": "ok",
     "timestamp": 1646904685754,
     "user": {
      "displayName": "Ovuowo Rukevwe",
      "photoUrl": "https://lh3.googleusercontent.com/a/default-user=s64",
      "userId": "05710236961773607660"
     },
     "user_tz": -60
    },
    "id": "bXItoSNXWvnN",
    "outputId": "32f0cdfb-021d-4867-e2a6-6d67b161a98c"
   },
   "outputs": [
    {
     "data": {
      "text/plain": [
       "<matplotlib.axes._subplots.AxesSubplot at 0x7f2edf176110>"
      ]
     },
     "execution_count": 47,
     "metadata": {},
     "output_type": "execute_result"
    },
    {
     "data": {
      "image/png": "[encoded data removed]",
      "text/plain": [
       "<Figure size 432x288 with 1 Axes>"
      ]
     },
     "metadata": {},
     "output_type": "display_data"
    }
   ],
   "source": [
    "sunday_start_Time = df.start_Time[df.start_Time.dt.dayofweek == 6]\n",
    "sns.histplot(sunday_start_Time.dt.hour, bins = 24, stat = 'density')"
   ]
  },
  {
   "cell_type": "code",
   "execution_count": 49,
   "metadata": {
    "colab": {
     "base_uri": "https://localhost:8080/",
     "height": 297
    },
    "executionInfo": {
     "elapsed": 556,
     "status": "ok",
     "timestamp": 1646905608142,
     "user": {
      "displayName": "Ovuowo Rukevwe",
      "photoUrl": "https://lh3.googleusercontent.com/a/default-user=s64",
      "userId": "05710236961773607660"
     },
     "user_tz": -60
    },
    "id": "68CtaTpRhqSd",
    "outputId": "38f9fbba-0c5b-41b7-d717-414258d934db"
   },
   "outputs": [
    {
     "data": {
      "text/plain": [
       "<matplotlib.axes._subplots.AxesSubplot at 0x7f2eeb1c6d90>"
      ]
     },
     "execution_count": 49,
     "metadata": {},
     "output_type": "execute_result"
    },
    {
     "data": {
      "image/png": "[encoded data removed]",
      "text/plain": [
       "<Figure size 432x288 with 1 Axes>"
      ]
     },
     "metadata": {},
     "output_type": "display_data"
    }
   ],
   "source": [
    "sns.histplot(sunday_start_Time.dt.month, bins = 12, stat = 'density')"
   ]
  },
  {
   "cell_type": "code",
   "execution_count": 51,
   "metadata": {
    "colab": {
     "base_uri": "https://localhost:8080/"
    },
    "executionInfo": {
     "elapsed": 584,
     "status": "ok",
     "timestamp": 1646905721195,
     "user": {
      "displayName": "Ovuowo Rukevwe",
      "photoUrl": "https://lh3.googleusercontent.com/a/default-user=s64",
      "userId": "05710236961773607660"
     },
     "user_tz": -60
    },
    "id": "4FVMK0L5OaZ_",
    "outputId": "7dbeebab-035b-484a-a78d-b48b072b4038"
   },
   "outputs": [
    {
     "data": {
      "text/plain": [
       "0          40.10891\n",
       "1          39.86542\n",
       "2          39.10266\n",
       "3          39.10148\n",
       "4          41.06213\n",
       "             ...   \n",
       "3015848    34.00248\n",
       "3015849    32.76696\n",
       "3015850    33.77545\n",
       "3015851    33.99246\n",
       "3015852    34.13393\n",
       "Name: Start_Lat, Length: 3015853, dtype: float64"
      ]
     },
     "execution_count": 51,
     "metadata": {},
     "output_type": "execute_result"
    }
   ],
   "source": [
    "df.Start_Lat"
   ]
  },
  {
   "cell_type": "code",
   "execution_count": 52,
   "metadata": {
    "colab": {
     "base_uri": "https://localhost:8080/"
    },
    "executionInfo": {
     "elapsed": 606,
     "status": "ok",
     "timestamp": 1646905725022,
     "user": {
      "displayName": "Ovuowo Rukevwe",
      "photoUrl": "https://lh3.googleusercontent.com/a/default-user=s64",
      "userId": "05710236961773607660"
     },
     "user_tz": -60
    },
    "id": "uH84PhoAOaTf",
    "outputId": "31ea21a9-6f1c-4c02-c4d4-891870bd25dc"
   },
   "outputs": [
    {
     "data": {
      "text/plain": [
       "0          -83.09286\n",
       "1          -84.06280\n",
       "2          -84.52468\n",
       "3          -84.52341\n",
       "4          -81.53784\n",
       "             ...    \n",
       "3015848   -117.37936\n",
       "3015849   -117.14806\n",
       "3015850   -117.84779\n",
       "3015851   -118.40302\n",
       "3015852   -117.23092\n",
       "Name: Start_Lng, Length: 3015853, dtype: float64"
      ]
     },
     "execution_count": 52,
     "metadata": {},
     "output_type": "execute_result"
    }
   ],
   "source": [
    "df.Start_Lng"
   ]
  },
  {
   "cell_type": "code",
   "execution_count": 59,
   "metadata": {
    "executionInfo": {
     "elapsed": 1190,
     "status": "ok",
     "timestamp": 1646907270879,
     "user": {
      "displayName": "Ovuowo Rukevwe",
      "photoUrl": "https://lh3.googleusercontent.com/a/default-user=s64",
      "userId": "05710236961773607660"
     },
     "user_tz": -60
    },
    "id": "0DnsXSkjT9gN"
   },
   "outputs": [],
   "source": [
    "sample_df = df.sample(int(0.1 * len(df)))"
   ]
  },
  {
   "cell_type": "code",
   "execution_count": 60,
   "metadata": {
    "colab": {
     "base_uri": "https://localhost:8080/",
     "height": 297
    },
    "executionInfo": {
     "elapsed": 11601,
     "status": "ok",
     "timestamp": 1646907285077,
     "user": {
      "displayName": "Ovuowo Rukevwe",
      "photoUrl": "https://lh3.googleusercontent.com/a/default-user=s64",
      "userId": "05710236961773607660"
     },
     "user_tz": -60
    },
    "id": "uTYNUnwVOZyA",
    "outputId": "6f299c33-bf8b-4666-e08f-ae6abb32c211"
   },
   "outputs": [
    {
     "data": {
      "text/plain": [
       "<matplotlib.axes._subplots.AxesSubplot at 0x7f2eadffab50>"
      ]
     },
     "execution_count": 60,
     "metadata": {},
     "output_type": "execute_result"
    },
    {
     "data": {
      "image/png": "[encoded data removed]",
      "text/plain": [
       "<Figure size 432x288 with 1 Axes>"
      ]
     },
     "metadata": {},
     "output_type": "display_data"
    }
   ],
   "source": [
    "sns.scatterplot(x=sample_df.Start_Lat, y=sample_df.Start_Lng, size = 0.001)"
   ]
  },
  {
   "cell_type": "code",
   "execution_count": 89,
   "metadata": {
    "executionInfo": {
     "elapsed": 22,
     "status": "ok",
     "timestamp": 1646909621741,
     "user": {
      "displayName": "Ovuowo Rukevwe",
      "photoUrl": "https://lh3.googleusercontent.com/a/default-user=s64",
      "userId": "05710236961773607660"
     },
     "user_tz": -60
    },
    "id": "YBZSQYZzdmZD"
   },
   "outputs": [],
   "source": [
    "import folium"
   ]
  },
  {
   "cell_type": "code",
   "execution_count": 93,
   "metadata": {
    "colab": {
     "base_uri": "https://localhost:8080/"
    },
    "executionInfo": {
     "elapsed": 482,
     "status": "ok",
     "timestamp": 1646909743996,
     "user": {
      "displayName": "Ovuowo Rukevwe",
      "photoUrl": "https://lh3.googleusercontent.com/a/default-user=s64",
      "userId": "05710236961773607660"
     },
     "user_tz": -60
    },
    "id": "7g5YvQkjdo7j",
    "outputId": "621759f2-f662-4101-a7ce-61ec15705263"
   },
   "outputs": [
    {
     "data": {
      "text/plain": [
       "(40.10891, -83.09286)"
      ]
     },
     "execution_count": 93,
     "metadata": {},
     "output_type": "execute_result"
    }
   ],
   "source": [
    "lat, lon = df.Start_Lat[0], df.Start_Lng[0]\n",
    "lat, lon"
   ]
  },
  {
   "cell_type": "code",
   "execution_count": 94,
   "metadata": {
    "colab": {
     "base_uri": "https://localhost:8080/"
    },
    "executionInfo": {
     "elapsed": 457,
     "status": "ok",
     "timestamp": 1646909891521,
     "user": {
      "displayName": "Ovuowo Rukevwe",
      "photoUrl": "https://lh3.googleusercontent.com/a/default-user=s64",
      "userId": "05710236961773607660"
     },
     "user_tz": -60
    },
    "id": "eCgFraG2c9Bm",
    "outputId": "aa4e96ab-c551-4377-9102-415402830f9b"
   },
   "outputs": [
    {
     "name": "stdout",
     "output_type": "stream",
     "text": [
      "2697297    40.609490\n",
      "2596567    38.641895\n",
      "1170350    32.414195\n",
      "1516787    25.956821\n",
      "2313694    32.250690\n",
      "             ...    \n",
      "1135692    39.601861\n",
      "1976832    41.772683\n",
      "2134588    39.073466\n",
      "2583529    41.574100\n",
      "1179822    33.758553\n",
      "Name: Start_Lat, Length: 100, dtype: float64\n",
      "2697297   -111.975542\n",
      "2596567   -121.150006\n",
      "1170350    -86.352754\n",
      "1516787    -80.293232\n",
      "2313694   -110.840900\n",
      "              ...    \n",
      "1135692    -77.805293\n",
      "1976832   -124.200444\n",
      "2134588    -94.680594\n",
      "2583529    -87.485050\n",
      "1179822   -118.019165\n",
      "Name: Start_Lng, Length: 100, dtype: float64\n"
     ]
    }
   ],
   "source": [
    "for x in df[['Start_Lat', 'Start_Lng']].sample(100).iteritems():\n",
    "  print(x[1])"
   ]
  },
  {
   "cell_type": "code",
   "execution_count": 99,
   "metadata": {
    "colab": {
     "base_uri": "https://localhost:8080/"
    },
    "executionInfo": {
     "elapsed": 1299,
     "status": "ok",
     "timestamp": 1646910195818,
     "user": {
      "displayName": "Ovuowo Rukevwe",
      "photoUrl": "https://lh3.googleusercontent.com/a/default-user=s64",
      "userId": "05710236961773607660"
     },
     "user_tz": -60
    },
    "id": "z1CxQ14RfeSP",
    "outputId": "e4cf2e4a-d6d7-4a16-9c18-93fd9c178e97"
   },
   "outputs": [
    {
     "data": {
      "text/plain": [
       "[(40.10891, -83.09286),\n",
       " (39.86542, -84.0628),\n",
       " (39.10266, -84.52468),\n",
       " (39.10148, -84.52341),\n",
       " (41.06213, -81.53784),\n",
       " (39.172393, -84.49279200000002),\n",
       " (39.06324, -84.03243),\n",
       " (39.06708, -84.05855),\n",
       " (39.77565, -84.18603),\n",
       " (41.37531, -81.82016999999998),\n",
       " (40.702247, -84.075887),\n",
       " (40.10931, -82.96849),\n",
       " (39.19288, -84.47723),\n",
       " (39.13877, -84.53394),\n",
       " (41.4739, -81.704233),\n",
       " (39.582242, -83.677814),\n",
       " (40.151785, -81.312635),\n",
       " (40.151747, -81.312682),\n",
       " (39.97241, -82.84695),\n",
       " (39.9838, -82.85656999999998),\n",
       " (40.02664, -82.9944),\n",
       " (41.679361, -83.573037),\n",
       " (40.99613, -85.26613),\n",
       " (39.0381, -84.59243000000002),\n",
       " (40.03386, -82.99601),\n",
       " (39.85798, -84.28181),\n",
       " (39.15267, -84.5395),\n",
       " (39.30732, -85.95982),\n",
       " (39.77572, -84.04815),\n",
       " (39.97643, -83.12306),\n",
       " (39.58595, -85.82518),\n",
       " (39.3638, -85.51659000000002),\n",
       " (39.45132, -85.62516),\n",
       " (39.75067, -84.14148),\n",
       " (39.2675, -81.49929),\n",
       " (39.86025, -85.96623000000002),\n",
       " (41.95677, -83.67214),\n",
       " (38.27401, -85.74844),\n",
       " (41.95677, -83.67214),\n",
       " (40.52225, -80.06666),\n",
       " (40.487814, -80.009439),\n",
       " (40.156298, -83.018431),\n",
       " (41.47461, -81.71181999999997),\n",
       " (41.0618, -81.54608),\n",
       " (40.45112, -85.15048),\n",
       " (40.35429, -85.14993),\n",
       " (39.75855, -85.13715),\n",
       " (39.74408, -85.13749),\n",
       " (39.965148, -83.020499),\n",
       " (40.72813, -84.78965),\n",
       " (39.85223, -85.25846999999997),\n",
       " (41.46747, -81.75909),\n",
       " (41.83193, -80.10143000000002),\n",
       " (39.744287, -84.204939),\n",
       " (39.71548, -84.22033),\n",
       " (39.7504, -84.20561),\n",
       " (41.72316, -84.96444),\n",
       " (40.04376, -82.99708000000003),\n",
       " (38.1781, -85.71946),\n",
       " (38.18577, -85.80678),\n",
       " (38.27191, -85.80838),\n",
       " (39.923905, -82.87008),\n",
       " (41.035566, -81.569917),\n",
       " (39.9239, -83.68767),\n",
       " (41.851914, -80.175232),\n",
       " (39.93849, -82.84849),\n",
       " (38.96943, -80.1096),\n",
       " (39.00248, -80.22624),\n",
       " (41.66805, -83.57063000000002),\n",
       " (41.48339, -81.66297),\n",
       " (41.50127, -81.4804),\n",
       " (39.789093, -82.989106),\n",
       " (41.67073, -81.24561),\n",
       " (41.70846, -81.17636),\n",
       " (41.44246, -81.78485),\n",
       " (39.77128, -84.1923),\n",
       " (41.50499, -81.47417),\n",
       " (40.109653, -80.2029),\n",
       " (38.38852, -81.7687),\n",
       " (41.03572, -81.57809),\n",
       " (41.47487, -81.72095),\n",
       " (41.62845, -84.80559000000002),\n",
       " (41.62894, -84.80373),\n",
       " (41.16102, -81.78573),\n",
       " (41.628232, -84.808858),\n",
       " (41.62986, -84.76619000000002),\n",
       " (39.74729, -84.21426),\n",
       " (41.42099, -81.69051999999998),\n",
       " (41.42318, -81.84674),\n",
       " (38.79691, -84.48273),\n",
       " (38.80878, -84.49638),\n",
       " (38.30155, -85.85499),\n",
       " (38.33667, -81.65623000000002),\n",
       " (38.33614, -81.65623000000002),\n",
       " (41.0961, -81.58593),\n",
       " (41.12155, -85.18715999999998),\n",
       " (38.829993, -80.667067),\n",
       " (40.05642, -83.03097),\n",
       " (41.37717, -81.5139),\n",
       " (39.17397, -84.49031),\n",
       " (39.75513, -84.16614),\n",
       " (39.17397, -84.49031),\n",
       " (41.12624, -81.65299),\n",
       " (38.33667, -81.65623000000002),\n",
       " (41.10389, -81.5),\n",
       " (39.16417, -84.45275),\n",
       " (40.11184, -83.00883),\n",
       " (38.31922, -85.75301999999998),\n",
       " (39.09881, -84.50801),\n",
       " (41.473859, -81.708409),\n",
       " (41.039988, -81.565332),\n",
       " (41.73565, -84.99082),\n",
       " (39.26566, -84.43965),\n",
       " (41.46981, -81.81104),\n",
       " (41.25666, -81.63157),\n",
       " (40.58919, -80.09885),\n",
       " (41.06356, -81.49078),\n",
       " (41.06218, -81.50595),\n",
       " (39.17736, -84.4873),\n",
       " (38.33956, -81.60991999999997),\n",
       " (41.47889, -81.6934),\n",
       " (40.58919, -80.09885),\n",
       " (41.41119000000001, -81.64414000000002),\n",
       " (39.24907, -84.44561999999998),\n",
       " (39.28775, -84.40073000000002),\n",
       " (41.47379, -81.89631),\n",
       " (41.54941, -81.60676),\n",
       " (39.03347, -84.603),\n",
       " (39.74903, -84.20106),\n",
       " (39.89473, -83.044),\n",
       " (39.19641, -84.47331),\n",
       " (39.22461, -84.45364000000002),\n",
       " (39.15306, -84.44283),\n",
       " (39.97262, -82.98368),\n",
       " (40.535447, -80.03596),\n",
       " (40.529455, -80.03506999999998),\n",
       " (41.49647, -81.67733),\n",
       " (41.0634, -81.49079),\n",
       " (39.74284, -84.20479),\n",
       " (41.46822, -81.9476),\n",
       " (41.92479, -83.36026),\n",
       " (41.184738, -80.432713),\n",
       " (40.27317, -85.5577),\n",
       " (39.98264, -85.14301999999998),\n",
       " (40.27317, -85.5577),\n",
       " (40.42667, -85.54968000000002),\n",
       " (39.97527, -85.14018),\n",
       " (39.09889, -84.52118),\n",
       " (38.88012, -84.62527),\n",
       " (38.79256, -84.60423),\n",
       " (39.74284, -84.20479),\n",
       " (40.484222, -80.13755400000002),\n",
       " (41.20104, -80.06859),\n",
       " (39.05528, -84.39072),\n",
       " (41.623325, -83.692226),\n",
       " (40.53024, -80.00957),\n",
       " (40.53024, -80.00957),\n",
       " (40.06527, -82.99591),\n",
       " (40.43954, -80.00971),\n",
       " (41.422004, -81.730092),\n",
       " (39.3638, -85.51659000000002),\n",
       " (39.82083, -85.7749),\n",
       " (40.0366, -85.72561999999998),\n",
       " (39.855691, -84.29079200000002),\n",
       " (40.049152, -85.682047),\n",
       " (39.83939, -85.55752),\n",
       " (40.13386, -80.00666),\n",
       " (40.43954, -80.00971),\n",
       " (40.13386, -80.00666),\n",
       " (40.13386, -80.00666),\n",
       " (39.97859, -82.9763),\n",
       " (39.95459, -83.04255),\n",
       " (39.68291, -85.97372),\n",
       " (38.49304, -85.77156),\n",
       " (38.33428, -85.82177),\n",
       " (39.99921, -83.02875),\n",
       " (38.53844, -85.77702),\n",
       " (38.1781, -85.71946),\n",
       " (39.87433, -82.99882),\n",
       " (41.39546, -85.32855),\n",
       " (41.39469, -85.28893000000002),\n",
       " (41.90473, -83.36986),\n",
       " (40.77137000000001, -84.62203000000002),\n",
       " (40.80059, -84.61374),\n",
       " (39.87433, -82.99882),\n",
       " (40.78593, -84.61787),\n",
       " (40.80059, -84.61374),\n",
       " (41.67487, -83.57266),\n",
       " (41.47376, -81.86113),\n",
       " (38.33465, -85.75389),\n",
       " (39.14014, -84.53495),\n",
       " (41.80143, -85.34888000000002),\n",
       " (41.81755, -85.32291),\n",
       " (41.35761, -81.81988),\n",
       " (39.34392, -84.39043000000002),\n",
       " (39.816154, -83.18010500000003),\n",
       " (38.824929, -85.47449499999998),\n",
       " (38.82415, -85.63794),\n",
       " (40.593244, -85.150017),\n",
       " (40.600487, -85.150502),\n",
       " (41.19362, -80.2374),\n",
       " (40.55267, -85.14974000000002),\n",
       " (40.56744000000001, -85.14993),\n",
       " (40.14212, -81.55153),\n",
       " (39.94397, -82.41127),\n",
       " (39.96893, -83.11922),\n",
       " (40.6126, -80.09494000000002),\n",
       " (40.11184, -83.00883),\n",
       " (41.06347, -81.50372),\n",
       " (39.972931, -85.965783),\n",
       " (39.95459, -83.04255),\n",
       " (40.11184, -83.00883),\n",
       " (39.97241, -82.84695),\n",
       " (39.9912, -85.9188),\n",
       " (41.34965, -81.51146),\n",
       " (41.11987, -80.69004),\n",
       " (41.11851, -80.69242),\n",
       " (40.05642, -83.03097),\n",
       " (41.123412, -80.68202600000002),\n",
       " (38.117487, -85.760397),\n",
       " (41.44134, -81.65055),\n",
       " (38.61531, -80.76034),\n",
       " (41.124052, -80.677589),\n",
       " (39.95085, -82.94428),\n",
       " (41.06257, -81.52228000000002),\n",
       " (40.11212, -83.03905999999998),\n",
       " (39.887033, -83.043909),\n",
       " (40.04916, -83.03336),\n",
       " (41.12906, -85.1612),\n",
       " (41.17798, -85.10323000000002),\n",
       " (38.08783, -83.90263),\n",
       " (41.63316, -83.54203000000003),\n",
       " (39.149639, -84.539381),\n",
       " (40.9605, -85.3528),\n",
       " (40.96051, -85.34522),\n",
       " (41.08204, -80.64846999999997),\n",
       " (41.61791, -83.54106999999998),\n",
       " (38.41592, -82.3465),\n",
       " (41.67571, -83.69385),\n",
       " (39.08272, -84.52264),\n",
       " (39.280947, -80.278075),\n",
       " (38.36387, -81.73867),\n",
       " (40.0187, -82.90465999999998),\n",
       " (41.53757, -81.64083000000002),\n",
       " (41.16522, -81.47454),\n",
       " (39.52352, -82.02360999999998),\n",
       " (39.517216, -82.025802),\n",
       " (40.322818, -83.071034),\n",
       " (41.73565, -84.99082),\n",
       " (39.14648, -84.45455),\n",
       " (39.82122, -85.76482),\n",
       " (41.11889, -81.65406999999998),\n",
       " (40.121557, -83.151457),\n",
       " (40.11017, -83.15876999999998),\n",
       " (41.57777, -81.54987),\n",
       " (40.121557, -83.151457),\n",
       " (40.11017, -83.15876999999998),\n",
       " (41.04592, -81.69463),\n",
       " (41.42099, -81.69051999999998),\n",
       " (39.27486, -84.346),\n",
       " (39.28266, -84.56742),\n",
       " (39.9467, -82.22232),\n",
       " (39.17397, -84.49031),\n",
       " (39.17736, -84.4873),\n",
       " (39.9467, -82.22232),\n",
       " (39.9467, -82.22232),\n",
       " (41.68518, -83.5678),\n",
       " (41.66572, -83.5652),\n",
       " (39.27125, -84.35176),\n",
       " (41.47395, -81.69931),\n",
       " (39.98505, -80.74006),\n",
       " (39.95813, -80.76219),\n",
       " (41.56544, -81.5835),\n",
       " (38.32587, -83.11389),\n",
       " (38.25869, -85.7622),\n",
       " (38.29322, -85.654625),\n",
       " (39.78609, -83.24606999999997),\n",
       " (41.53968, -81.62795),\n",
       " (39.08927, -84.5227),\n",
       " (38.25922, -85.76632),\n",
       " (41.55264, -81.60032),\n",
       " (39.02187, -84.50492),\n",
       " (41.06755, -81.57421),\n",
       " (40.49223, -80.01029),\n",
       " (41.48836, -81.66471),\n",
       " (39.95085, -82.94428),\n",
       " (41.42063, -81.80859),\n",
       " (41.06755, -81.57421),\n",
       " (40.82949, -81.39732),\n",
       " (41.40091, -81.81724),\n",
       " (41.13355, -85.13584),\n",
       " (41.14226, -85.13611),\n",
       " (38.870386, -84.624429),\n",
       " (41.47974, -81.6667),\n",
       " (40.30095, -80.16651999999998),\n",
       " (39.11543, -84.50003000000002),\n",
       " (41.1419, -81.47694),\n",
       " (39.14917, -84.44711),\n",
       " (39.81979000000001, -84.18908),\n",
       " (39.84509, -84.1899),\n",
       " (41.47461, -81.71181999999997),\n",
       " (39.17304, -84.47589),\n",
       " (39.1021, -84.49754),\n",
       " (41.49873, -81.67260999999998),\n",
       " (39.12627, -84.53509),\n",
       " (41.47394600000001, -81.699011),\n",
       " (39.9745, -83.09654),\n",
       " (39.85911, -84.2808),\n",
       " (39.24943, -84.36541),\n",
       " (38.31179, -85.58773000000002),\n",
       " (39.27486, -84.346),\n",
       " (39.29287, -84.31981),\n",
       " (39.15267, -84.5395),\n",
       " (41.4675, -81.49014),\n",
       " (39.26661, -84.35605),\n",
       " (39.27125, -84.35176),\n",
       " (38.20674, -85.74846),\n",
       " (40.13804, -82.97112),\n",
       " (41.47965, -81.66758),\n",
       " (39.08887, -84.52271),\n",
       " (41.6882, -83.64064),\n",
       " (40.06527, -82.99591),\n",
       " (39.86536, -84.05238),\n",
       " (38.420223, -82.293065),\n",
       " (41.47414000000001, -81.69893),\n",
       " (41.47542, -81.68721),\n",
       " (40.07297, -83.1347),\n",
       " (40.05609000000001, -80.679211),\n",
       " (38.19105, -85.71902),\n",
       " (38.25454000000001, -85.71969),\n",
       " (39.171694, -84.494399),\n",
       " (41.06239, -81.52229),\n",
       " (39.259254, -84.440978),\n",
       " (39.905178, -82.895471),\n",
       " (40.0988, -83.13331),\n",
       " (41.33991, -81.81739),\n",
       " (40.0999, -82.92089),\n",
       " (39.4728, -80.11963),\n",
       " (41.46631, -81.77065999999998),\n",
       " (38.34109, -81.70017),\n",
       " (41.160072, -85.232647),\n",
       " (41.163626, -85.24482900000002),\n",
       " (39.14014, -84.53495),\n",
       " (40.94537, -81.15473),\n",
       " (41.68591, -83.911307),\n",
       " (41.704523, -83.9136),\n",
       " (40.945772, -81.17219399999998),\n",
       " (38.82445, -82.98299),\n",
       " (38.84111, -82.98432),\n",
       " (39.00079, -84.42043000000002),\n",
       " (39.96071, -85.35383),\n",
       " (39.2675, -81.49929),\n",
       " (40.27317, -85.5577),\n",
       " (40.42667, -85.54968000000002),\n",
       " (38.130782, -81.388878),\n",
       " (38.545195, -85.778613),\n",
       " (38.362427, -81.714434),\n",
       " (38.39115, -81.58664),\n",
       " (40.08978, -82.98725999999998),\n",
       " (40.0122, -82.99188000000002),\n",
       " (41.68918, -83.53681999999998),\n",
       " (39.3781, -84.365),\n",
       " (39.11919, -84.53539),\n",
       " (39.05029, -83.77673),\n",
       " (39.04827, -83.77199),\n",
       " (40.0717, -82.90821),\n",
       " (39.09655, -84.48312),\n",
       " (40.43077, -80.02638),\n",
       " (41.443708, -85.19285),\n",
       " (41.438119, -85.15969399999999),\n",
       " (41.46747, -81.75909),\n",
       " (39.044435, -84.465864),\n",
       " (39.22461, -84.45364000000002),\n",
       " (41.104217, -81.499987),\n",
       " (41.1003, -81.4999),\n",
       " (39.1021, -84.49754),\n",
       " (41.46375, -81.69353000000002),\n",
       " (41.52134, -83.45642),\n",
       " (41.52549000000001, -83.46344),\n",
       " (41.43166, -81.68160999999998),\n",
       " (38.22363, -85.50532),\n",
       " (40.85466, -81.41646999999998),\n",
       " (38.22272, -85.50111),\n",
       " (39.12424, -84.53501),\n",
       " (39.09858, -84.51974),\n",
       " (39.63551, -84.19519),\n",
       " (40.39715, -80.10368000000003),\n",
       " (41.56709, -81.57816),\n",
       " (41.18225, -84.94275999999998),\n",
       " (41.18225, -84.94275999999998),\n",
       " (39.10148, -84.52341),\n",
       " (39.10266, -84.52468),\n",
       " (41.55245, -83.60061999999998),\n",
       " (38.52006, -81.35221),\n",
       " (41.3513, -83.62276),\n",
       " (39.25015, -81.30566),\n",
       " (41.345031, -82.285379),\n",
       " (41.351335, -82.26144599999998),\n",
       " (38.38457, -81.804429),\n",
       " (40.41528, -80.01234000000002),\n",
       " (40.03598, -83.12479),\n",
       " (41.03669, -81.50492),\n",
       " (41.68971, -83.53045999999998),\n",
       " (39.587784, -83.723939),\n",
       " (39.626237, -83.73105),\n",
       " (41.06243, -81.49904000000002),\n",
       " (41.06218, -81.50595),\n",
       " (39.97262, -82.98368),\n",
       " (39.93658, -83.00941999999998),\n",
       " (41.208579, -82.807829),\n",
       " (41.4051, -81.8184),\n",
       " (39.29035, -84.39078),\n",
       " (39.90524, -82.89541),\n",
       " (40.04376, -82.99708000000003),\n",
       " (39.98793, -82.98568),\n",
       " (41.874915, -85.409527),\n",
       " (41.890234, -85.409642),\n",
       " (39.9335, -82.78939),\n",
       " (40.04916, -83.03336),\n",
       " (39.99493, -82.93332),\n",
       " (39.83727, -83.09326999999998),\n",
       " (40.98954000000001, -81.49372),\n",
       " (38.53844, -85.77702),\n",
       " (41.10389, -81.5),\n",
       " (38.577894, -85.77896),\n",
       " (41.42099, -81.69051999999998),\n",
       " (38.58054600000001, -85.77866),\n",
       " (39.833935, -84.061832),\n",
       " (38.30344, -85.88893),\n",
       " (39.93654, -83.40048),\n",
       " (39.95612, -83.37499),\n",
       " (39.17766, -84.39780999999998),\n",
       " (40.02155, -83.0354),\n",
       " (39.97518, -85.63374),\n",
       " (39.94576, -85.63454),\n",
       " (40.27744000000001, -85.72518000000002),\n",
       " (40.2777, -85.67459000000002),\n",
       " (39.17304, -84.47589),\n",
       " (41.68648, -83.5669),\n",
       " (41.66267, -85.03312),\n",
       " (41.68976, -83.666),\n",
       " (39.94594, -82.9432),\n",
       " (41.4758, -81.66036),\n",
       " (41.628312, -84.812135),\n",
       " (39.96724, -83.02459),\n",
       " (41.96429000000001, -83.35018000000002),\n",
       " (41.282993, -83.638931),\n",
       " (41.63126, -83.48336),\n",
       " (41.427584, -85.8495),\n",
       " (41.471378, -85.839527),\n",
       " (41.46747, -81.75909),\n",
       " (39.18364, -84.48373000000002),\n",
       " (41.94495, -80.40234),\n",
       " (39.53078, -84.310264),\n",
       " (41.438774, -81.80341999999997),\n",
       " (39.9838, -82.85656999999998),\n",
       " (40.44413400000001, -80.028261),\n",
       " (39.97727, -83.15445),\n",
       " (39.9745, -83.09654),\n",
       " (39.97865, -83.11698),\n",
       " (39.97327, -83.12002),\n",
       " (39.22571, -84.36832),\n",
       " (39.986342, -83.118881),\n",
       " (39.73629, -84.20489),\n",
       " (41.4051, -81.8184),\n",
       " (41.41101, -81.66634),\n",
       " (39.24464, -84.44835),\n",
       " (40.11212, -83.03905999999998),\n",
       " (40.30095, -80.16651999999998),\n",
       " (40.29739, -80.16798),\n",
       " (41.49243, -81.67554),\n",
       " (40.1827, -80.26148),\n",
       " (39.95459, -83.04255),\n",
       " (39.97527, -85.14018),\n",
       " (39.98511, -85.14406),\n",
       " (38.29514, -85.75655),\n",
       " (39.93654, -83.40048),\n",
       " (39.94143, -83.39224),\n",
       " (39.11543, -84.50003000000002),\n",
       " (41.030684, -81.885739),\n",
       " (41.43166, -81.68160999999998),\n",
       " (40.6664, -80.227514),\n",
       " (40.67137, -80.22581),\n",
       " (41.305199, -81.438626),\n",
       " (40.354252, -85.843032),\n",
       " (40.402251, -85.842969),\n",
       " (41.26752000000001, -85.85673),\n",
       " (39.97307, -82.98405),\n",
       " (39.9672, -81.28699999999998),\n",
       " (39.96392, -81.27197),\n",
       " (41.52631, -83.62123000000003),\n",
       " (39.93292, -82.83025),\n",
       " (39.08272, -84.52264),\n",
       " (39.8552, -84.32502),\n",
       " (41.65404, -85.70526),\n",
       " (41.65458, -85.58601),\n",
       " (41.39465, -81.65326),\n",
       " (41.06211, -81.53053),\n",
       " (41.09598, -81.49976),\n",
       " (41.85222, -85.67843),\n",
       " (38.148808, -80.929665),\n",
       " (41.52447, -85.57791),\n",
       " (41.5105, -85.57781),\n",
       " (39.90524, -82.89541),\n",
       " (41.23598, -81.49325999999998),\n",
       " (38.70101, -80.66483000000002),\n",
       " (39.22498, -84.38094),\n",
       " (40.776023, -80.12718100000002),\n",
       " (38.86027, -80.65729),\n",
       " (39.88203, -83.04748000000002),\n",
       " (39.89253400000001, -83.038786),\n",
       " (39.89698, -83.03428000000002),\n",
       " (41.67439, -83.693727),\n",
       " (41.12999, -85.15503000000002),\n",
       " (39.09889, -84.52118),\n",
       " (41.52631, -83.62123000000003),\n",
       " (39.088552, -84.522724),\n",
       " (39.95423, -82.98879000000002),\n",
       " (39.21018, -84.46345),\n",
       " (39.95369, -82.96403000000002),\n",
       " (40.40934, -80.19247),\n",
       " (40.44126, -80.19314),\n",
       " (39.16161, -84.51375),\n",
       " (39.16161, -84.51375),\n",
       " (39.15141, -84.54061),\n",
       " (39.75855, -85.13715),\n",
       " (41.67571, -83.69385),\n",
       " (41.67571, -83.69385),\n",
       " (39.28805, -84.37462),\n",
       " (41.53618, -83.6176),\n",
       " (39.07202, -84.51907),\n",
       " (38.259133, -85.752672),\n",
       " (40.44425, -80.02821),\n",
       " (40.44278, -80.02468),\n",
       " (38.30155, -85.85499),\n",
       " (40.35405, -80.13756),\n",
       " (40.35449000000001, -80.13835999999998),\n",
       " (38.30344, -85.88893),\n",
       " (41.08789, -83.66011),\n",
       " (41.02454, -80.92163000000002),\n",
       " (41.02413, -80.90579),\n",
       " (39.08168, -84.7069),\n",
       " (38.18539000000001, -85.81793),\n",
       " (39.27734, -84.86438000000003),\n",
       " (39.16437, -84.43731),\n",
       " (39.748585, -84.226084),\n",
       " (39.4728, -80.11963),\n",
       " (41.187807, -80.149019),\n",
       " (41.19242, -80.15860500000002),\n",
       " (38.233483, -85.62671800000003),\n",
       " (38.33954, -81.609895),\n",
       " (40.07297, -83.1347),\n",
       " (40.08402, -83.13046),\n",
       " (38.34631, -83.40449),\n",
       " (38.35382, -83.40553),\n",
       " (39.04416, -84.46656),\n",
       " (38.41807, -81.54525),\n",
       " (38.309401, -85.847643),\n",
       " (41.64679, -83.54913),\n",
       " (38.198748, -85.733953),\n",
       " (39.97401, -82.99355),\n",
       " (39.17397, -84.49031),\n",
       " (41.68843, -83.56258000000003),\n",
       " (41.67904, -83.5732),\n",
       " (39.25249, -84.36493),\n",
       " (38.310736, -85.590395),\n",
       " (41.46941, -81.80535),\n",
       " (38.20674, -85.74846),\n",
       " (39.226317, -84.37107900000002),\n",
       " (41.68721, -83.55579),\n",
       " (40.09775, -84.22926),\n",
       " (41.42147, -81.70682),\n",
       " (38.29414600000001, -85.756847),\n",
       " (39.17304, -84.47589),\n",
       " (38.15982, -84.67308),\n",
       " (39.11675, -84.53355),\n",
       " (39.24943, -84.36541),\n",
       " (41.06146, -81.5049),\n",
       " (39.18364, -84.48373000000002),\n",
       " (41.06228, -81.50986999999998),\n",
       " (39.98793, -82.98568),\n",
       " (39.95971, -83.04811),\n",
       " (39.1479, -84.53929000000002),\n",
       " (39.89555, -83.84997),\n",
       " (39.99226, -82.98517),\n",
       " (39.40983, -82.97548),\n",
       " (40.6126, -80.09494000000002),\n",
       " (39.22479000000001, -84.27783000000002),\n",
       " (39.11675, -84.53355),\n",
       " (41.43869, -81.80554000000002),\n",
       " (40.016819, -82.90411),\n",
       " (39.09757000000001, -84.51666),\n",
       " (41.06247000000001, -81.52405),\n",
       " (39.13219, -84.49464),\n",
       " (39.097654, -84.516019),\n",
       " (41.34965, -81.51146),\n",
       " (41.37717, -81.5139),\n",
       " (40.12589000000001, -80.13661),\n",
       " (40.13189000000001, -80.132407),\n",
       " (40.00507, -83.1186),\n",
       " (39.43794000000001, -82.53893000000002),\n",
       " (39.12627, -84.53509),\n",
       " (38.07759, -84.45711999999997),\n",
       " (40.09079000000001, -82.90783),\n",
       " (39.64731, -85.91696999999998),\n",
       " (39.08927, -84.5227),\n",
       " (38.26109, -85.73695),\n",
       " (38.19785, -85.70445),\n",
       " (39.05654000000001, -84.54283000000002),\n",
       " (41.42413, -81.64519),\n",
       " (39.28638, -84.42706),\n",
       " (41.37499, -83.61635),\n",
       " (41.06228, -81.50986999999998),\n",
       " (41.06146, -81.5049),\n",
       " (41.53907, -81.63354),\n",
       " (40.04916, -83.03336),\n",
       " (41.13613, -81.72196),\n",
       " (39.09891, -84.49181999999998),\n",
       " (39.96268, -82.84305),\n",
       " (39.17397, -84.49031),\n",
       " (39.16911, -84.42104),\n",
       " (39.003821, -80.391285),\n",
       " (39.17736, -84.4873),\n",
       " (39.14316, -84.47069),\n",
       " (39.2696, -84.34894),\n",
       " (40.521732, -81.64755),\n",
       " (40.513361, -81.651599),\n",
       " (41.52631, -83.62123000000003),\n",
       " (38.992607, -80.195782),\n",
       " (38.839151, -82.152877),\n",
       " (40.27675, -85.49916),\n",
       " (40.52168, -80.13163),\n",
       " (39.83711, -84.54392),\n",
       " (39.02296, -84.51784),\n",
       " (38.455787, -81.88205),\n",
       " (39.02397, -84.48039),\n",
       " (38.22433, -85.751),\n",
       " (39.05973, -84.42438),\n",
       " (39.27734, -84.86438000000003),\n",
       " (41.47965, -81.66758),\n",
       " (39.02257, -84.48631),\n",
       " (40.44846, -80.00755),\n",
       " (39.09891, -84.28556999999998),\n",
       " (41.06026, -81.55485999999998),\n",
       " (41.802758, -83.684687),\n",
       " (38.0791, -83.94591),\n",
       " (38.01846, -84.15159),\n",
       " (38.30344, -85.88893),\n",
       " (38.84109, -85.81618),\n",
       " (41.14181, -80.72015999999998),\n",
       " (39.14648, -84.45455),\n",
       " (41.04263, -81.50543),\n",
       " (38.21089, -85.82606),\n",
       " (39.75067, -84.14148),\n",
       " (38.28581, -85.50792),\n",
       " (39.15273300000001, -84.541403),\n",
       " (38.23585, -85.658849),\n",
       " (38.20249, -85.68697),\n",
       " (40.53491, -83.10678),\n",
       " (40.52035, -83.10043),\n",
       " (39.12965, -84.49555),\n",
       " (38.22811, -85.7514),\n",
       " (40.41233, -80.07815),\n",
       " (39.7504, -84.20561),\n",
       " (39.08272, -84.52264),\n",
       " (39.781457, -85.839651),\n",
       " (39.781457, -85.839651),\n",
       " (41.06076, -81.45923),\n",
       " (39.688148, -83.88431),\n",
       " (39.693164, -83.882745),\n",
       " (39.9488, -83.02845),\n",
       " (41.11584000000001, -81.61428000000002),\n",
       " (39.797697, -84.189677),\n",
       " (39.20326, -85.95763000000002),\n",
       " (39.24464, -84.44835),\n",
       " (39.73733, -84.25733000000002),\n",
       " (39.969853, -85.972976),\n",
       " (41.11889, -81.65406999999998),\n",
       " (39.13219, -84.49464),\n",
       " (41.458, -83.62201999999998),\n",
       " (40.09268, -83.03726),\n",
       " (40.066965, -83.289888),\n",
       " (40.045608, -83.29660799999998),\n",
       " (39.97307, -82.98405),\n",
       " (39.98248, -85.123922),\n",
       " (39.981095, -85.11027299999998),\n",
       " (40.43021, -80.02554),\n",
       " (40.43219000000001, -80.02781999999998),\n",
       " (39.976567, -83.128639),\n",
       " (41.256658, -85.363439),\n",
       " (41.37499, -83.61635),\n",
       " (41.252653, -85.347328),\n",
       " (39.93658, -83.00941999999998),\n",
       " (39.14014, -84.53495),\n",
       " (40.153014, -82.970316),\n",
       " (39.90524, -82.89541),\n",
       " (39.13219, -84.49464),\n",
       " (40.42581, -80.4294),\n",
       " (41.08789, -83.65977),\n",
       " (39.9488, -83.02845),\n",
       " (41.47585, -81.87980999999998),\n",
       " (39.1079, -84.50284),\n",
       " (38.340803, -81.680728),\n",
       " (40.96473, -85.28862),\n",
       " (38.441, -82.12679),\n",
       " (38.4413, -82.01529000000002),\n",
       " (38.441, -82.12679),\n",
       " (38.18977, -83.48379),\n",
       " (41.194131, -80.201982),\n",
       " (40.09601, -83.13626),\n",
       " (41.23632, -83.65401999999997),\n",
       " (38.1737, -84.81473000000003),\n",
       " (38.19016, -85.7616),\n",
       " (39.25249, -84.36493),\n",
       " (39.137217, -84.04718299999998),\n",
       " (39.141454, -84.016543),\n",
       " (38.344424, -81.613662),\n",
       " (41.93113, -83.35857),\n",
       " (40.89268, -84.61808),\n",
       " (40.46013, -80.19126),\n",
       " (41.119342, -80.698025),\n",
       " (41.117872, -80.693898),\n",
       " (39.15267, -84.5395),\n",
       " (38.27362, -85.80906),\n",
       " (41.458, -83.62201999999998),\n",
       " (39.35655, -84.26419),\n",
       " (38.4062, -81.54054000000002),\n",
       " (41.02525900000001, -81.5042),\n",
       " (38.27362, -85.80906),\n",
       " (38.11969000000001, -85.77235),\n",
       " (38.275406, -85.81314300000003),\n",
       " (38.27508, -85.81517099999998),\n",
       " (41.39769, -81.939),\n",
       " (39.46513, -80.13559000000002),\n",
       " (38.217994, -81.426024),\n",
       " (38.215401, -81.42437199999998),\n",
       " (39.042851, -84.612615),\n",
       " (38.26109, -85.73695),\n",
       " (39.05654000000001, -84.54283000000002),\n",
       " (41.840758, -84.361657),\n",
       " (41.841123, -84.361652),\n",
       " (41.63316, -83.54203000000003),\n",
       " (40.02874, -81.04368000000002),\n",
       " (41.43891, -81.80258),\n",
       " (41.0811, -81.50348000000002),\n",
       " (38.35575, -81.65420999999998),\n",
       " (39.94585, -82.94293),\n",
       " (41.69017, -83.5181),\n",
       " (40.11212, -83.03905999999998),\n",
       " (41.50259000000001, -81.66974),\n",
       " (39.989994, -83.02512),\n",
       " (41.480458, -81.692932),\n",
       " (39.22461, -84.45364000000002),\n",
       " (40.04376, -82.99708000000003),\n",
       " (39.93621, -82.88318000000002),\n",
       " (39.167788, -82.524172),\n",
       " (39.20655, -82.48212),\n",
       " (41.36576, -81.51602),\n",
       " (39.977322, -81.183327),\n",
       " (39.961933, -81.175436),\n",
       " (39.68292, -84.23004),\n",
       " (40.02664, -82.9944),\n",
       " (38.583372, -81.994824),\n",
       " (38.58119600000001, -82.004356),\n",
       " (40.07297, -83.1347),\n",
       " (41.58689, -83.56234),\n",
       " (38.31714, -85.57677),\n",
       " (40.07297, -83.1347),\n",
       " (39.07202, -84.51907),\n",
       " (41.46747, -81.75909),\n",
       " (40.82645, -81.39675),\n",
       " (40.82645, -81.39675),\n",
       " (39.05654000000001, -84.54283000000002),\n",
       " (39.06272, -84.65728),\n",
       " (39.03368, -84.59527),\n",
       " (40.02121, -82.99503),\n",
       " (39.866695, -84.9305),\n",
       " (39.05654000000001, -84.54283000000002),\n",
       " (39.03232, -84.59137),\n",
       " (41.04058, -81.61256999999998),\n",
       " (40.98884, -83.64875),\n",
       " (39.95658, -83.37075),\n",
       " (39.89857, -83.72139),\n",
       " (39.896448, -83.72312099999998),\n",
       " (41.47965, -81.66758),\n",
       " (39.71548, -84.22033),\n",
       " (40.0389, -85.71828000000002),\n",
       " (41.17516, -81.23116999999998),\n",
       " (41.15107, -81.21375),\n",
       " (40.0389, -85.71828000000002),\n",
       " (39.99336, -85.83861999999998),\n",
       " (40.46013, -80.19126),\n",
       " (41.68976, -83.666),\n",
       " (39.97326, -83.00690999999998),\n",
       " (39.48572, -83.94191),\n",
       " (39.83355, -85.99635),\n",
       " (39.83355, -85.99635),\n",
       " (39.79721, -85.97153),\n",
       " (39.79721, -85.97153),\n",
       " (39.98056, -83.11924),\n",
       " (41.458, -83.62243000000002),\n",
       " (39.905352, -82.995352),\n",
       " (39.99921, -83.02875),\n",
       " (40.869049, -81.95845600000001),\n",
       " (41.419021, -81.519515),\n",
       " (39.34392, -84.39043000000002),\n",
       " (39.9454, -82.60271),\n",
       " (38.353957, -81.73513100000002),\n",
       " (38.354505, -81.731585),\n",
       " (41.501623, -81.479519),\n",
       " (39.86477, -83.99871),\n",
       " (38.737813, -85.250959),\n",
       " (40.00507, -83.1186),\n",
       " (39.91978, -82.93149),\n",
       " (39.09757000000001, -84.51666),\n",
       " (41.07995, -81.50389),\n",
       " (41.63316, -83.54203000000003),\n",
       " (39.82529, -83.03175999999998),\n",
       " (39.83209, -82.99884),\n",
       " (39.83208, -83.000447),\n",
       " (39.83214, -82.99838000000003),\n",
       " (38.416631, -84.861968),\n",
       " (40.55549, -80.11634000000002),\n",
       " (39.17736, -84.4873),\n",
       " (41.484589, -81.691778),\n",
       " (41.22734000000001, -81.62705),\n",
       " (39.04695, -84.57498000000002),\n",
       " (39.25595, -84.44287),\n",
       " (39.8888, -82.88181999999998),\n",
       " (39.74729, -84.21426),\n",
       " (39.97415, -83.09486),\n",
       " (39.08272, -84.52264),\n",
       " (39.949808, -83.02289300000002),\n",
       " (39.95141, -83.0137),\n",
       " (38.7056, -80.66107),\n",
       " (39.1479, -84.53929000000002),\n",
       " (41.7573, -83.48075),\n",
       " (39.98946, -85.9299),\n",
       " (39.98894, -83.025012),\n",
       " (41.110996, -80.82384),\n",
       " (41.68685900000001, -83.554005),\n",
       " (41.53907, -81.63354),\n",
       " (39.300562, -84.518869),\n",
       " (41.202543, -85.7011),\n",
       " (39.19288, -84.47723),\n",
       " (40.07297, -83.1347),\n",
       " (39.140991, -84.483618),\n",
       " (41.121599, -80.789503),\n",
       " (41.31438, -81.51286),\n",
       " (39.85922, -84.27762),\n",
       " (40.42005, -80.03531),\n",
       " (39.9589, -82.98257),\n",
       " (39.89087, -83.85382),\n",
       " (39.89862, -83.85353),\n",
       " (40.03938, -83.050567),\n",
       " (41.41218, -81.61371),\n",
       " (38.306159, -80.833765),\n",
       " (40.104, -82.94154),\n",
       " (38.24178, -85.62212),\n",
       " (41.55264, -81.60032),\n",
       " (39.99226, -82.98517),\n",
       " (38.31553, -85.58313000000003),\n",
       " (38.400331, -85.371049),\n",
       " (38.31251, -85.57741999999998),\n",
       " (38.400331, -85.371049),\n",
       " (39.88938, -82.88316),\n",
       " (38.15873, -80.90504),\n",
       " (38.155137, -80.912154),\n",
       " (39.9745, -83.09654),\n",
       " (41.47487, -81.72095),\n",
       " (39.26931, -84.4307),\n",
       " (38.2201, -85.82223),\n",
       " (41.48339, -81.66297),\n",
       " (39.16161, -84.51375),\n",
       " (41.42734, -82.08322),\n",
       " (41.52631, -83.62123000000003),\n",
       " (39.91732, -83.012335),\n",
       " (41.60867, -81.48891),\n",
       " (41.20554, -85.17116),\n",
       " (41.1787, -85.16594),\n",
       " (41.507189, -81.67124),\n",
       " (39.97415, -83.09486),\n",
       " (39.97043, -83.01961999999997),\n",
       " (39.93849, -82.84849),\n",
       " (39.89698, -83.03428000000002),\n",
       " (39.71452, -84.22281),\n",
       " (40.11468, -83.01644),\n",
       " (38.34244, -85.80447),\n",
       " (41.47036, -81.65984),\n",
       " (38.30056, -85.84703),\n",
       " (39.169389, -84.50389),\n",
       " (39.936838, -83.042661),\n",
       " (39.937567, -83.04209200000003),\n",
       " (39.9425, -82.53536),\n",
       " (39.27125, -84.35176),\n",
       " (41.398877, -83.616108),\n",
       " (39.24422, -84.30224),\n",
       " (40.412997, -80.07973299999998),\n",
       " (39.021521, -84.50784300000002),\n",
       " (41.12367, -80.76913),\n",
       " (41.073876, -83.66091999999998),\n",
       " (39.01992, -83.65886),\n",
       " (38.97914, -83.65465),\n",
       " (40.09927, -83.15793000000002),\n",
       " (39.93658, -83.00941999999998),\n",
       " (39.11543, -84.50003000000002),\n",
       " (41.474552, -81.711522),\n",
       " (39.78517, -84.18457),\n",
       " (41.47974, -81.6667),\n",
       " (38.27719, -85.69383),\n",
       " (38.495124, -85.771118),\n",
       " (39.73277, -84.20522),\n",
       " (41.458, -83.62243000000002),\n",
       " (39.045381, -84.462312),\n",
       " (41.526, -81.65974),\n",
       " (40.78725, -81.38592),\n",
       " (38.3657, -85.75495),\n",
       " (39.02575, -84.61272),\n",
       " (40.90923, -81.79765),\n",
       " (40.91649, -81.78869),\n",
       " (39.10051, -80.39199),\n",
       " (40.082643, -82.91367199999998),\n",
       " (41.47162, -81.90626),\n",
       " (40.08155, -82.91859000000002),\n",
       " (40.07976, -82.92689),\n",
       " (38.27511, -85.81238),\n",
       " (39.02908, -84.53565),\n",
       " (39.04455, -84.57798000000003),\n",
       " (39.83026, -81.45434),\n",
       " (39.81436, -81.46898),\n",
       " (38.41336, -82.3483),\n",
       " (38.20674, -85.74846),\n",
       " (38.10937, -85.70123000000002),\n",
       " (40.26758, -82.92745),\n",
       " (38.22285, -85.57436),\n",
       " (40.43827, -80.00527),\n",
       " (39.08272, -84.52264),\n",
       " (40.046599, -85.99359),\n",
       " (41.67904, -83.5732),\n",
       " (40.52225, -80.06666),\n",
       " (41.041763, -81.3932),\n",
       " (39.02541, -85.88784),\n",
       " (39.887572, -84.047499),\n",
       " (39.90803, -84.03969000000002),\n",
       " (39.8181, -81.45925),\n",
       " (39.8181, -81.45925),\n",
       " (39.8181, -81.45925),\n",
       " (39.81447, -81.46769),\n",
       " (41.47307, -80.36586),\n",
       " (41.460561, -80.366376),\n",
       " (39.75022, -84.19668),\n",
       " (39.16161, -84.51375),\n",
       " (39.82329, -84.166569),\n",
       " (39.818751, -84.167637),\n",
       " (39.15267, -84.5395),\n",
       " (40.480209, -85.719799),\n",
       " (39.02676, -84.61421),\n",
       " (40.480209, -85.719799),\n",
       " (40.48013, -85.72942900000002),\n",
       " (38.24863, -85.70467),\n",
       " (39.24907, -84.44561999999998),\n",
       " (39.18364, -84.48373000000002),\n",
       " (41.420898, -81.69322),\n",
       " (39.18976, -84.26285),\n",
       " (40.00921, -83.03149),\n",
       " (41.12369, -80.75595),\n",
       " (41.09705, -81.50012),\n",
       " (41.03011, -81.40292099999998),\n",
       " (39.9533, -83.0032),\n",
       " (39.91404, -83.01729),\n",
       " (39.11811, -84.49975),\n",
       " (39.73277, -84.20522),\n",
       " (41.47379, -81.69592),\n",
       " (41.47395, -81.69931),\n",
       " (39.62334, -81.83577),\n",
       " (39.98233, -82.98449000000002),\n",
       " (40.15106, -80.03243),\n",
       " (41.66332, -83.56385999999998),\n",
       " (39.35245, -84.37507),\n",
       " (41.67178, -83.6939),\n",
       " (38.38018, -82.60993),\n",
       " (39.03347, -84.603),\n",
       " (40.42116, -80.0438),\n",
       " (41.341147, -83.347543),\n",
       " (41.34131, -83.376561),\n",
       " (40.26758, -82.92745),\n",
       " (40.432459, -80.023538),\n",
       " (39.9912, -85.9188),\n",
       " (39.05654000000001, -84.54283000000002),\n",
       " (38.39328, -85.76223),\n",
       " (39.97165800000001, -80.017133),\n",
       " (39.98381, -80.01011),\n",
       " (39.84457, -85.51639399999998),\n",
       " (38.399528, -85.76430500000002),\n",
       " (38.38981, -81.76937),\n",
       " (41.47965, -81.66758),\n",
       " (39.97859, -82.9763),\n",
       " (40.68109000000001, -80.24616999999998),\n",
       " (40.68109000000001, -80.24616999999998),\n",
       " (41.47487, -81.72095),\n",
       " ...]"
      ]
     },
     "execution_count": 99,
     "metadata": {},
     "output_type": "execute_result"
    }
   ],
   "source": [
    "list(zip(list(df.Start_Lat), list(df.Start_Lng)))"
   ]
  },
  {
   "cell_type": "code",
   "execution_count": 101,
   "metadata": {
    "executionInfo": {
     "elapsed": 780,
     "status": "ok",
     "timestamp": 1646910300731,
     "user": {
      "displayName": "Ovuowo Rukevwe",
      "photoUrl": "https://lh3.googleusercontent.com/a/default-user=s64",
      "userId": "05710236961773607660"
     },
     "user_tz": -60
    },
    "id": "WQnztTs0c-OX"
   },
   "outputs": [],
   "source": [
    "from folium.plugins import HeatMap"
   ]
  },
  {
   "cell_type": "code",
   "execution_count": 111,
   "metadata": {
    "executionInfo": {
     "elapsed": 552,
     "status": "ok",
     "timestamp": 1646910747276,
     "user": {
      "displayName": "Ovuowo Rukevwe",
      "photoUrl": "https://lh3.googleusercontent.com/a/default-user=s64",
      "userId": "05710236961773607660"
     },
     "user_tz": -60
    },
    "id": "ByCURqSfgr_k"
   },
   "outputs": [],
   "source": [
    "sample_df = df.sample(int(0.01 * len(df)))\n",
    "lat_lng_pairs = list(zip(list(sample_df.Start_Lat), list(sample_df.Start_Lng)))"
   ]
  },
  {
   "cell_type": "code",
   "execution_count": 112,
   "metadata": {
    "colab": {
     "base_uri": "https://localhost:8080/",
     "height": 559
    },
    "executionInfo": {
     "elapsed": 856,
     "status": "ok",
     "timestamp": 1646910754079,
     "user": {
      "displayName": "Ovuowo Rukevwe",
      "photoUrl": "https://lh3.googleusercontent.com/a/default-user=s64",
      "userId": "05710236961773607660"
     },
     "user_tz": -60
    },
    "id": "R154Rv-YOZeJ",
    "outputId": "7b627fe0-ddbf-4641-f7eb-66355da0a728"
   },
   "outputs": [
    {
     "data": {
      "text/html": [
       "<div style=\"width:100%;\"><div style=\"position:relative;width:100%;height:0;padding-bottom:60%;\"><span style=\"color:#565656\">Make this Notebook Trusted to load map: File -> Trust Notebook</span><iframe src=\"about:blank\" style=\"position:absolute;width:100%;height:100%;left:0;top:0;border:none !important;\" data-html=%3C%21DOCTYPE%20html%3E%0A%3Chead%3E%20%20%20%20%0A%20%20%20%20%3Cmeta%20http-equiv%3D%22content-type%22%20content%3D%22text/html%3B%20charset%3DUTF-8%22%20/%3E%0A%20%20%20%20%3Cscript%3EL_PREFER_CANVAS%3Dfalse%3B%20L_NO_TOUCH%3Dfalse%3B%20L_DISABLE_3D%3Dfalse%3B%3C/script%3E%0A%20%20%20%20%3Cscript%20src%3D%22https%3A//cdn.jsdelivr.net/npm/leaflet%401.4.0/dist/leaflet.js%22%3E%3C/script%3E%0A%20%20%20%20%3Cscript%20src%3D%22https%3A//code.jquery.com/jquery-1.12.4.min.js%22%3E%3C/script%3E%0A%20%20%20%20%3Cscript%20src%3D%22https%3A//maxcdn.bootstrapcdn.com/bootstrap/3.2.0/js/bootstrap.min.js%22%3E%3C/script%3E%0A%20%20%20%20%3Cscript%20src%3D%22https%3A//cdnjs.cloudflare.com/ajax/libs/Leaflet.awesome-markers/2.0.2/leaflet.awesome-markers.js%22%3E%3C/script%3E%0A%20%20%20%20%3Clink%20rel%3D%22stylesheet%22%20href%3D%22https%3A//cdn.jsdelivr.net/npm/leaflet%401.4.0/dist/leaflet.css%22/%3E%0A%20%20%20%20%3Clink%20rel%3D%22stylesheet%22%20href%3D%22https%3A//maxcdn.bootstrapcdn.com/bootstrap/3.2.0/css/bootstrap.min.css%22/%3E%0A%20%20%20%20%3Clink%20rel%3D%22stylesheet%22%20href%3D%22https%3A//maxcdn.bootstrapcdn.com/bootstrap/3.2.0/css/bootstrap-theme.min.css%22/%3E%0A%20%20%20%20%3Clink%20rel%3D%22stylesheet%22%20href%3D%22https%3A//maxcdn.bootstrapcdn.com/font-awesome/4.6.3/css/font-awesome.min.css%22/%3E%0A%20%20%20%20%3Clink%20rel%3D%22stylesheet%22%20href%3D%22https%3A//cdnjs.cloudflare.com/ajax/libs/Leaflet.awesome-markers/2.0.2/leaflet.awesome-markers.css%22/%3E%0A%20%20%20%20%3Clink%20rel%3D%22stylesheet%22%20href%3D%22https%3A//rawcdn.githack.com/python-visualization/folium/master/folium/templates/leaflet.awesome.rotate.css%22/%3E%0A%20%20%20%20%3Cstyle%3Ehtml%2C%20body%20%7Bwidth%3A%20100%25%3Bheight%3A%20100%25%3Bmargin%3A%200%3Bpadding%3A%200%3B%7D%3C/style%3E%0A%20%20%20%20%3Cstyle%3E%23map%20%7Bposition%3Aabsolute%3Btop%3A0%3Bbottom%3A0%3Bright%3A0%3Bleft%3A0%3B%7D%3C/style%3E%0A%20%20%20%20%0A%20%20%20%20%3Cmeta%20name%3D%22viewport%22%20content%3D%22width%3Ddevice-width%2C%0A%20%20%20%20%20%20%20%20initial-scale%3D1.0%2C%20maximum-scale%3D1.0%2C%20user-scalable%3Dno%22%20/%3E%0A%20%20%20%20%3Cstyle%3E%23map_7a056b9010f240d59b4b3c19846e5030%20%7B%0A%20%20%20%20%20%20%20%20position%3A%20relative%3B%0A%20%20%20%20%20%20%20%20width%3A%20100.0%25%3B%0A%20%20%20%20%20%20%20%20height%3A%20100.0%25%3B%0A%20%20%20%20%20%20%20%20left%3A%200.0%25%3B%0A%20%20%20%20%20%20%20%20top%3A%200.0%25%3B%0A%20%20%20%20%20%20%20%20%7D%0A%20%20%20%20%3C/style%3E%0A%20%20%20%20%3Cscript%20src%3D%22https%3A//leaflet.github.io/Leaflet.heat/dist/leaflet-heat.js%22%3E%3C/script%3E%0A%3C/head%3E%0A%3Cbody%3E%20%20%20%20%0A%20%20%20%20%0A%20%20%20%20%3Cdiv%20class%3D%22folium-map%22%20id%3D%22map_7a056b9010f240d59b4b3c19846e5030%22%20%3E%3C/div%3E%0A%3C/body%3E%0A%3Cscript%3E%20%20%20%20%0A%20%20%20%20%0A%20%20%20%20%0A%20%20%20%20%20%20%20%20var%20bounds%20%3D%20null%3B%0A%20%20%20%20%0A%0A%20%20%20%20var%20map_7a056b9010f240d59b4b3c19846e5030%20%3D%20L.map%28%0A%20%20%20%20%20%20%20%20%27map_7a056b9010f240d59b4b3c19846e5030%27%2C%20%7B%0A%20%20%20%20%20%20%20%20center%3A%20%5B0%2C%200%5D%2C%0A%20%20%20%20%20%20%20%20zoom%3A%201%2C%0A%20%20%20%20%20%20%20%20maxBounds%3A%20bounds%2C%0A%20%20%20%20%20%20%20%20layers%3A%20%5B%5D%2C%0A%20%20%20%20%20%20%20%20worldCopyJump%3A%20false%2C%0A%20%20%20%20%20%20%20%20crs%3A%20L.CRS.EPSG3857%2C%0A%20%20%20%20%20%20%20%20zoomControl%3A%20true%2C%0A%20%20%20%20%20%20%20%20%7D%29%3B%0A%0A%0A%20%20%20%20%0A%20%20%20%20var%20tile_layer_7289529d22a74af08d6e050132de819d%20%3D%20L.tileLayer%28%0A%20%20%20%20%20%20%20%20%27https%3A//%7Bs%7D.tile.openstreetmap.org/%7Bz%7D/%7Bx%7D/%7By%7D.png%27%2C%0A%20%20%20%20%20%20%20%20%7B%0A%20%20%20%20%20%20%20%20%22attribution%22%3A%20null%2C%0A%20%20%20%20%20%20%20%20%22detectRetina%22%3A%20false%2C%0A%20%20%20%20%20%20%20%20%22maxNativeZoom%22%3A%2018%2C%0A%20%20%20%20%20%20%20%20%22maxZoom%22%3A%2018%2C%0A%20%20%20%20%20%20%20%20%22minZoom%22%3A%200%2C%0A%20%20%20%20%20%20%20%20%22noWrap%22%3A%20false%2C%0A%20%20%20%20%20%20%20%20%22opacity%22%3A%201%2C%0A%20%20%20%20%20%20%20%20%22subdomains%22%3A%20%22abc%22%2C%0A%20%20%20%20%20%20%20%20%22tms%22%3A%20false%0A%7D%29.addTo%28map_7a056b9010f240d59b4b3c19846e5030%29%3B%0A%20%20%20%20%0A%20%20%20%20%20%20%20%20%20%20%20%20var%20heat_map_3687efef381840ad98e88291c2032e97%20%3D%20L.heatLayer%28%0A%20%20%20%20%20%20%20%20%20%20%20%20%20%20%20%20%5B%5B46.471577%2C%20-111.980606%5D%2C%20%5B25.92675%2C%20-80.153746%5D%2C%20%5B27.699094%2C%20-80.903999%5D%2C%20%5B33.925781%2C%20-84.48726500000002%5D%2C%20%5B33.994431%2C%20-117.160018%5D%2C%20%5B33.90612%2C%20-118.28683999999998%5D%2C%20%5B39.466913%2C%20-76.661599%5D%2C%20%5B34.407561%2C%20-119.540743%5D%2C%20%5B40.76899%2C%20-74.02434000000002%5D%2C%20%5B34.152708000000004%2C%20-118.367273%5D%2C%20%5B41.51335%2C%20-88.06985999999998%5D%2C%20%5B32.1352%2C%20-81.24001%5D%2C%20%5B37.311897%2C%20-106.965475%5D%2C%20%5B34.047822%2C%20-118.266564%5D%2C%20%5B35.18732100000001%2C%20-80.773883%5D%2C%20%5B40.042793%2C%20-76.327884%5D%2C%20%5B41.08922000000001%2C%20-111.99303%5D%2C%20%5B35.83355%2C%20-77.979036%5D%2C%20%5B33.396640000000005%2C%20-84.59376%5D%2C%20%5B29.8346%2C%20-95.38534%5D%2C%20%5B39.82452%2C%20-104.95921%5D%2C%20%5B44.963039%2C%20-93.249968%5D%2C%20%5B34.308375%2C%20-117.47056%5D%2C%20%5B39.058522%2C%20-76.926146%5D%2C%20%5B33.95644%2C%20-117.306328%5D%2C%20%5B34.814043%2C%20-114.593817%5D%2C%20%5B25.714585%2C%20-80.413965%5D%2C%20%5B40.857933%2C%20-76.545624%5D%2C%20%5B38.039211%2C%20-78.834453%5D%2C%20%5B33.93077%2C%20-117.879921%5D%2C%20%5B39.132826%2C%20-94.818084%5D%2C%20%5B40.04452%2C%20-76.30896700000002%5D%2C%20%5B40.351013%2C%20-75.958342%5D%2C%20%5B28.535439%2C%20-81.28564399999998%5D%2C%20%5B39.167388%2C%20-76.530128%5D%2C%20%5B43.638642%2C%20-95.914335%5D%2C%20%5B37.880859%2C%20-77.359675%5D%2C%20%5B30.406283%2C%20-85.43225%5D%2C%20%5B35.722759%2C%20-78.60083%5D%2C%20%5B39.823845%2C%20-76.04808100000002%5D%2C%20%5B33.878648%2C%20-118.103173%5D%2C%20%5B47.784702%2C%20-122.196865%5D%2C%20%5B33.409171%2C%20-111.89198600000002%5D%2C%20%5B32.865463%2C%20-96.895572%5D%2C%20%5B25.488917%2C%20-80.448854%5D%2C%20%5B30.836294%2C%20-85.40459200000002%5D%2C%20%5B33.391008%2C%20-117.18646%5D%2C%20%5B25.763197%2C%20-80.300493%5D%2C%20%5B37.664791%2C%20-122.485595%5D%2C%20%5B43.164714%2C%20-78.553072%5D%2C%20%5B32.727938%2C%20-117.112509%5D%2C%20%5B30.431038%2C%20-91.084082%5D%2C%20%5B27.312562%2C%20-82.535595%5D%2C%20%5B34.066934%2C%20-117.559386%5D%2C%20%5B40.809654%2C%20-73.929536%5D%2C%20%5B38.012813%2C%20-102.613302%5D%2C%20%5B35.871699%2C%20-78.560807%5D%2C%20%5B42.28623%2C%20-83.79498000000002%5D%2C%20%5B38.804334%2C%20-77.059878%5D%2C%20%5B43.53219%2C%20-116.06059%5D%2C%20%5B34.761738%2C%20-86.560027%5D%2C%20%5B27.491666%2C%20-82.477616%5D%2C%20%5B34.323177%2C%20-81.55040699999998%5D%2C%20%5B40.69164%2C%20-73.76238000000002%5D%2C%20%5B47.40771%2C%20-122.22025%5D%2C%20%5B35.23653%2C%20-80.83877%5D%2C%20%5B37.885375%2C%20-122.516577%5D%2C%20%5B35.21633%2C%20-80.78078000000002%5D%2C%20%5B40.701495%2C%20-111.871421%5D%2C%20%5B34.064296%2C%20-117.810084%5D%2C%20%5B33.779901%2C%20-117.876874%5D%2C%20%5B40.84478%2C%20-73.90484000000002%5D%2C%20%5B34.143177%2C%20-118.367471%5D%2C%20%5B42.980027%2C%20-85.657107%5D%2C%20%5B28.40593%2C%20-81.40454%5D%2C%20%5B33.515307%2C%20-114.568674%5D%2C%20%5B37.952876%2C%20-122.328027%5D%2C%20%5B38.852701%2C%20-122.619966%5D%2C%20%5B38.8727%2C%20-91.3702%5D%2C%20%5B33.493173%2C%20-112.331943%5D%2C%20%5B29.770472%2C%20-95.408352%5D%2C%20%5B38.866658%2C%20-77.320413%5D%2C%20%5B47.23487%2C%20-122.46828700000002%5D%2C%20%5B45.60701%2C%20-121.19483%5D%2C%20%5B44.93248%2C%20-123.14003%5D%2C%20%5B34.15355%2C%20-117.324529%5D%2C%20%5B38.612491%2C%20-121.382887%5D%2C%20%5B32.748208%2C%20-96.803985%5D%2C%20%5B40.347154%2C%20-111.76421299999998%5D%2C%20%5B33.743296%2C%20-117.112479%5D%2C%20%5B37.815111%2C%20-121.993193%5D%2C%20%5B41.87377%2C%20-87.90403%5D%2C%20%5B33.964051%2C%20-117.325047%5D%2C%20%5B25.733489%2C%20-80.298775%5D%2C%20%5B30.435468%2C%20-84.289709%5D%2C%20%5B38.47415%2C%20-121.42257%5D%2C%20%5B38.530951%2C%20-121.470761%5D%2C%20%5B33.34921%2C%20-86.86829%5D%2C%20%5B37.191874%2C%20-93.243911%5D%2C%20%5B25.679866%2C%20-80.388711%5D%5D%2C%0A%20%20%20%20%20%20%20%20%20%20%20%20%20%20%20%20%7B%0A%20%20%20%20%20%20%20%20%20%20%20%20%20%20%20%20%20%20%20%20minOpacity%3A%200.5%2C%0A%20%20%20%20%20%20%20%20%20%20%20%20%20%20%20%20%20%20%20%20maxZoom%3A%2018%2C%0A%20%20%20%20%20%20%20%20%20%20%20%20%20%20%20%20%20%20%20%20max%3A%201.0%2C%0A%20%20%20%20%20%20%20%20%20%20%20%20%20%20%20%20%20%20%20%20radius%3A%2025%2C%0A%20%20%20%20%20%20%20%20%20%20%20%20%20%20%20%20%20%20%20%20blur%3A%2015%2C%0A%20%20%20%20%20%20%20%20%20%20%20%20%20%20%20%20%20%20%20%20gradient%3A%20null%0A%20%20%20%20%20%20%20%20%20%20%20%20%20%20%20%20%20%20%20%20%7D%29%0A%20%20%20%20%20%20%20%20%20%20%20%20%20%20%20%20.addTo%28map_7a056b9010f240d59b4b3c19846e5030%29%3B%0A%20%20%20%20%20%20%20%20%0A%3C/script%3E onload=\"this.contentDocument.open();this.contentDocument.write(    decodeURIComponent(this.getAttribute('data-html')));this.contentDocument.close();\" allowfullscreen webkitallowfullscreen mozallowfullscreen></iframe></div></div>"
      ],
      "text/plain": [
       "<folium.folium.Map at 0x7f2eb75fa310>"
      ]
     },
     "execution_count": 112,
     "metadata": {},
     "output_type": "execute_result"
    }
   ],
   "source": [
    "map = folium.Map()\n",
    "\n",
    "HeatMap(lat_lng_pairs[:100]).add_to(map)\n",
    "map"
   ]
  },
  {
   "cell_type": "code",
   "execution_count": 115,
   "metadata": {
    "executionInfo": {
     "elapsed": 467,
     "status": "ok",
     "timestamp": 1646912565396,
     "user": {
      "displayName": "Ovuowo Rukevwe",
      "photoUrl": "https://lh3.googleusercontent.com/a/default-user=s64",
      "userId": "05710236961773607660"
     },
     "user_tz": -60
    },
    "id": "N1oaLi5mhhXd"
   },
   "outputs": [],
   "source": [
    "import jovian"
   ]
  },
  {
   "cell_type": "code",
   "execution_count": null,
   "metadata": {
    "colab": {
     "base_uri": "https://localhost:8080/"
    },
    "id": "axvGD0bYhhPY",
    "outputId": "748defad-ab9e-4060-eb41-bc4819110620"
   },
   "outputs": [
    {
     "name": "stdout",
     "output_type": "stream",
     "text": [
      "[jovian] Detected Colab notebook...\u001b[0m\n",
      "[jovian] Please enter your API key ( from https://jovian.ai/ ):\u001b[0m\n",
      "API KEY: "
     ]
    }
   ],
   "source": [
    "jovian.commit()"
   ]
  },
  {
   "cell_type": "code",
   "execution_count": null,
   "metadata": {
    "id": "37OKWA4FhhBC"
   },
   "outputs": [],
   "source": []
  },
  {
   "cell_type": "code",
   "execution_count": null,
   "metadata": {
    "executionInfo": {
     "elapsed": 47,
     "status": "aborted",
     "timestamp": 1646910316387,
     "user": {
      "displayName": "Ovuowo Rukevwe",
      "photoUrl": "https://lh3.googleusercontent.com/a/default-user=s64",
      "userId": "05710236961773607660"
     },
     "user_tz": -60
    },
    "id": "GO6QDjr5wPhC"
   },
   "outputs": [],
   "source": []
  },
  {
   "cell_type": "markdown",
   "metadata": {
    "id": "poDwnYw8K1W_"
   },
   "source": [
    "## Ask question and answer\n",
    "1. Are there accidences in warmer or colder areas?\n",
    "2. The number of accident per city decreases exponentially\n",
    "3. Does new york show in the data? if yes, whyis it lower in count?\n",
    "4. Among the top 100 cities, which state has the most frquent accident?\n",
    "5. 5% of cities has more than 1000 yearly accident\n",
    "6. over 1167 cities have accident\n",
    "7. What time of the day are accident most frequent time\n",
    "8. what time of the week have the most accident\n",
    "9. What month have the most aacident\n",
    "10. What is the trend oif accident? incresing / decreasing?\n",
    "11. When is accident per unit of traffic the highest"
   ]
  },
  {
   "cell_type": "code",
   "execution_count": null,
   "metadata": {
    "executionInfo": {
     "elapsed": 50,
     "status": "aborted",
     "timestamp": 1646910316390,
     "user": {
      "displayName": "Ovuowo Rukevwe",
      "photoUrl": "https://lh3.googleusercontent.com/a/default-user=s64",
      "userId": "05710236961773607660"
     },
     "user_tz": -60
    },
    "id": "qA5wpWdIgQmn"
   },
   "outputs": [],
   "source": []
  }
 ],
 "metadata": {
  "colab": {
   "collapsed_sections": [],
   "name": "united-state-accident.ipynb",
   "provenance": []
  },
  "language_info": {
   "codemirror_mode": {
    "name": "ipython",
    "version": 3
   },
   "file_extension": ".py",
   "mimetype": "text/x-python",
   "name": "python",
   "nbconvert_exporter": "python",
   "pygments_lexer": "ipython3",
   "version": "3.7.6"
  }
 },
 "nbformat": 4,
 "nbformat_minor": 0
}